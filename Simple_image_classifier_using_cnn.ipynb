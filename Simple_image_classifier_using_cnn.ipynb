{
  "nbformat": 4,
  "nbformat_minor": 0,
  "metadata": {
    "colab": {
      "name": "simple image classifier using convolutional Neural Networks.ipynb",
      "provenance": [],
      "collapsed_sections": []
    },
    "kernelspec": {
      "name": "python3",
      "display_name": "Python 3"
    }
  },
  "cells": [
    {
      "cell_type": "code",
      "metadata": {
        "id": "ODCHwky-lij1",
        "colab_type": "code",
        "colab": {}
      },
      "source": [
        ""
      ],
      "execution_count": null,
      "outputs": []
    },
    {
      "cell_type": "markdown",
      "metadata": {
        "id": "t8WflSTF8923",
        "colab_type": "text"
      },
      "source": [
        ""
      ]
    },
    {
      "cell_type": "code",
      "metadata": {
        "id": "pAV7Ll5hlj9j",
        "colab_type": "code",
        "colab": {}
      },
      "source": [
        ""
      ],
      "execution_count": null,
      "outputs": []
    },
    {
      "cell_type": "markdown",
      "metadata": {
        "id": "8nrJodkTmh9b",
        "colab_type": "text"
      },
      "source": [
        ""
      ]
    },
    {
      "cell_type": "code",
      "metadata": {
        "id": "IF9ucm9bwEYI",
        "colab_type": "code",
        "colab": {}
      },
      "source": [
        "\n"
      ],
      "execution_count": null,
      "outputs": []
    },
    {
      "cell_type": "markdown",
      "metadata": {
        "id": "RWnkhqnoo2cn",
        "colab_type": "text"
      },
      "source": [
        "#objective\n",
        "To craete a CNN model and use the model to classify handwritten digits.\n",
        "\n"
      ]
    },
    {
      "cell_type": "markdown",
      "metadata": {
        "id": "-Yd8klOx30p0",
        "colab_type": "text"
      },
      "source": [
        ""
      ]
    },
    {
      "cell_type": "code",
      "metadata": {
        "id": "6eNEN5bL3zms",
        "colab_type": "code",
        "colab": {}
      },
      "source": [
        ""
      ],
      "execution_count": null,
      "outputs": []
    },
    {
      "cell_type": "markdown",
      "metadata": {
        "id": "7D_yXERdqOEX",
        "colab_type": "text"
      },
      "source": [
        "#workflow\n",
        "1. Load the dataset MNIST and examine the structure\n",
        "\n",
        "\n",
        "*   use any library to load the dataset (include both tensorflow and pytorch modules )\n",
        "*   take a look at data, inspecting its size,shape and quantity.\n",
        "* view random samples using either openCV or MATPLOTLIB of the handwritten digits and observe the complexiy of the image \n",
        " 2. using Numpy to prepare the dataset for the training\n",
        "\n",
        "\n",
        "*   Ensure the format or shape of the data is appropriate for input into the model. (One-hot-encoding) https://www.geeksforgeeks.org/ml-one-hot-encoding-of-datasets-in-python/\n",
        "*   Ensure the data types are correct and data is normalized\n",
        "3. Create a CNN with the following specifications\n",
        "*   Input dimensions 28 * 28 * 1\n",
        "*   Two Convolution layers (Kernel size 3*3) first with 64 filters, second 32. Use ReLU (Rectified Linear Unit) - activation layer\n",
        "*   Max Pooling size 2*2\n",
        "*   Dropout Layer 0.25\n",
        "*   Dense layer with 128 outputs\n",
        "*   Add another dropout layer with rate setting of 0.5\n",
        "*   Add final dropout layer that indicates the class probabilities.\n",
        "4. Train the CNN on the MNIST dataset prepared in step 2\n",
        "*   Train for atleast 10 epochs using batch size of 32\n",
        "5. Plot gragh showing how your training and validation loss and accuracy chached with respect to Epochs completed.\n",
        "6. Save the model, will be used in part two.\n",
        "7. Test the models on random samples on the test data.\n",
        "\n",
        "\n",
        " \n",
        "\n",
        "\n",
        "\n",
        "\n"
      ]
    },
    {
      "cell_type": "markdown",
      "metadata": {
        "id": "gdvK95O1m73h",
        "colab_type": "text"
      },
      "source": [
        ""
      ]
    },
    {
      "cell_type": "markdown",
      "metadata": {
        "id": "rAhUsnP2mpOG",
        "colab_type": "text"
      },
      "source": [
        "\n"
      ]
    },
    {
      "cell_type": "markdown",
      "metadata": {
        "id": "2sYm4Sjyo4n9",
        "colab_type": "text"
      },
      "source": [
        ""
      ]
    },
    {
      "cell_type": "markdown",
      "metadata": {
        "id": "1zEYejiKo9Ur",
        "colab_type": "text"
      },
      "source": [
        "\n",
        "# deliverable\n",
        "Jupyter Notebook that documents the workflow as we take the MNIST dataset, view samples, convert into right shape/format as required for the deep learning library\n"
      ]
    },
    {
      "cell_type": "markdown",
      "metadata": {
        "id": "Vt8X90s8GG-B",
        "colab_type": "text"
      },
      "source": [
        "# Loading the Handwritten Digit Dataset (MNIST)\n",
        "\"\"\""
      ]
    },
    {
      "cell_type": "markdown",
      "metadata": {
        "id": "MkZT1LuwndbX",
        "colab_type": "text"
      },
      "source": [
        ""
      ]
    },
    {
      "cell_type": "code",
      "metadata": {
        "id": "DCl_6h0IGMot",
        "colab_type": "code",
        "colab": {}
      },
      "source": [
        "from tensorflow.keras.datasets import mnist\n"
      ],
      "execution_count": null,
      "outputs": []
    },
    {
      "cell_type": "markdown",
      "metadata": {
        "id": "soJ5y_15pCIO",
        "colab_type": "text"
      },
      "source": [
        "load the dataset(divide into train and test data)"
      ]
    },
    {
      "cell_type": "code",
      "metadata": {
        "id": "Es4rwd94mkrY",
        "colab_type": "code",
        "colab": {}
      },
      "source": [
        "(x_train, y_train),(x_test, y_test) = mnist.load_data()\n"
      ],
      "execution_count": null,
      "outputs": []
    },
    {
      "cell_type": "markdown",
      "metadata": {
        "id": "aQFiZTNFImsC",
        "colab_type": "text"
      },
      "source": [
        "#Display the number of samples in x_train, x_test, y_train, y_test"
      ]
    },
    {
      "cell_type": "code",
      "metadata": {
        "id": "UiNOCtVtIpRA",
        "colab_type": "code",
        "colab": {
          "base_uri": "https://localhost:8080/",
          "height": 238
        },
        "outputId": "860bb720-1b3b-48b8-9d3d-5d588398d88e"
      },
      "source": [
        "print(\"initial shape or dimensions of x_train\",str(x_train.shape)+'\\n')\n",
        "print('Number of samples in training data: '+str(len(x_train)))\n",
        "print('Number of labels in training data: '+ str(len(y_train)))\n",
        "print('Number of samples in test data: '+str(len(x_test)))\n",
        "print('Number of labels in test data: '+str(len(y_test))+ '\\n')\n",
        "print('Dimensions of x_train: '+str(x_train[0].shape))\n",
        "print('Labels in x_train: '+str(y_train.shape)+'\\n')\n",
        "print('Dimensions of x_test: '+str(x_test[0].shape))\n",
        "print('Labels in x_test: '+str(y_test.shape)+'\\n')"
      ],
      "execution_count": null,
      "outputs": [
        {
          "output_type": "stream",
          "text": [
            "initial shape or dimensions of x_train (60000, 28, 28)\n",
            "\n",
            "Number of samples in training data: 60000\n",
            "Number of labels in training data: 60000\n",
            "Number of samples in test data: 10000\n",
            "Number of labels in test data: 10000\n",
            "\n",
            "Dimensions of x_train: (28, 28)\n",
            "Labels in x_train: (60000,)\n",
            "\n",
            "Dimensions of x_test: (28, 28)\n",
            "Labels in x_test: (10000,)\n",
            "\n"
          ],
          "name": "stdout"
        }
      ]
    },
    {
      "cell_type": "markdown",
      "metadata": {
        "id": "i-DDUopkI04b",
        "colab_type": "text"
      },
      "source": [
        "# Take a look at the images in the Dataset"
      ]
    },
    {
      "cell_type": "code",
      "metadata": {
        "id": "Tg5xN1gqI5tj",
        "colab_type": "code",
        "colab": {}
      },
      "source": [
        "import matplotlib.pyplot as plt\n",
        "import numpy as np"
      ],
      "execution_count": null,
      "outputs": []
    },
    {
      "cell_type": "markdown",
      "metadata": {
        "id": "bPyLqYIsJGBL",
        "colab_type": "text"
      },
      "source": [
        "#Plot 6 images in subplots\n",
        "#set the colormap to grey since our image data is in greyscale"
      ]
    },
    {
      "cell_type": "code",
      "metadata": {
        "id": "LBcCnDcjJJO_",
        "colab_type": "code",
        "colab": {
          "base_uri": "https://localhost:8080/",
          "height": 191
        },
        "outputId": "37d718c3-6754-4104-c796-f17707e7d6c9"
      },
      "source": [
        "plt.subplot(331)\n",
        "random_num = np.random.randint(0, len(x_train))\n",
        "_=plt.imshow(x_train[random_num],cmap=plt.get_cmap('gray'))\n",
        "plt.subplot(332)\n",
        "random_num = np.random.randint(0, len(x_train))\n",
        "_=plt.imshow(x_train[random_num],cmap=plt.get_cmap('gray'))\n",
        "\n",
        "plt.subplot(333)\n",
        "random_num = np.random.randint(0, len(x_train))\n",
        "_=plt.imshow(x_train[random_num],cmap=plt.get_cmap('gray'))\n",
        "\n",
        "plt.subplot(334)\n",
        "random_num = np.random.randint(0, len(x_train))\n",
        "_=plt.imshow(x_train[random_num],cmap=plt.get_cmap('gray'))\n",
        "\n",
        "plt.subplot(335)\n",
        "random_num = np.random.randint(0, len(x_train))\n",
        "_=plt.imshow(x_train[random_num],cmap=plt.get_cmap('gray'))\n",
        "\n",
        "plt.subplot(336)\n",
        "random_num = np.random.randint(0, len(x_train))\n",
        "_=plt.imshow(x_train[random_num],cmap=plt.get_cmap('gray'))\n",
        "\n"
      ],
      "execution_count": null,
      "outputs": [
        {
          "output_type": "display_data",
          "data": {
            "image/png": "[encoded data removed]",
            "text/plain": [
              "<Figure size 432x288 with 6 Axes>"
            ]
          },
          "metadata": {
            "tags": [],
            "needs_background": "light"
          }
        }
      ]
    },
    {
      "cell_type": "markdown",
      "metadata": {
        "id": "ouJkk1NPJnwv",
        "colab_type": "text"
      },
      "source": [
        "#Preparing Dataset for Keras\n",
        "\n",
        "Keras Requires input data as a 4-d shape of (60000,28,28,1). When we initially loaded our data, x_train was (60000, 28,28). We need out label to be one-hot-encoded ().\n",
        "\"\"\""
      ]
    },
    {
      "cell_type": "markdown",
      "metadata": {
        "id": "7CfcAqEWJse0",
        "colab_type": "text"
      },
      "source": [
        "#Store rows and columns"
      ]
    },
    {
      "cell_type": "code",
      "metadata": {
        "id": "Al5lWlaGJv_p",
        "colab_type": "code",
        "colab": {}
      },
      "source": [
        "img_rows = x_train[0].shape[0]\n",
        "img_cols = x_train[0].shape[1]"
      ],
      "execution_count": null,
      "outputs": []
    },
    {
      "cell_type": "markdown",
      "metadata": {
        "id": "BKMOhNTZJ5qq",
        "colab_type": "text"
      },
      "source": [
        "#get data in right shape for keras.\n",
        "#add a forth dimensio to our data (60000,28,28) to (60000,28,28,1)"
      ]
    },
    {
      "cell_type": "code",
      "metadata": {
        "id": "C2UZ6GvvJReF",
        "colab_type": "code",
        "colab": {}
      },
      "source": [
        "x_train=x_train.reshape(x_train.shape[0],img_rows, img_cols,1)\n",
        "x_test=x_test.reshape(x_test.shape[0],img_rows, img_cols,1)\n"
      ],
      "execution_count": null,
      "outputs": []
    },
    {
      "cell_type": "markdown",
      "metadata": {
        "id": "It8eMHtAKDoz",
        "colab_type": "text"
      },
      "source": [
        "#Store shape of single image for future use as a variable storing our input shape"
      ]
    },
    {
      "cell_type": "code",
      "metadata": {
        "id": "he5ZRnodKJS8",
        "colab_type": "code",
        "colab": {}
      },
      "source": [
        "input_shape = (img_rows,img_cols,1)"
      ],
      "execution_count": null,
      "outputs": []
    },
    {
      "cell_type": "markdown",
      "metadata": {
        "id": "YnOn3UqaKP10",
        "colab_type": "text"
      },
      "source": [
        "#Change image type to float"
      ]
    },
    {
      "cell_type": "code",
      "metadata": {
        "id": "jIioHQvaKTPW",
        "colab_type": "code",
        "colab": {}
      },
      "source": [
        "x_train=x_train.astype('float32')\n",
        "x_test = x_test.astype('float32')\n"
      ],
      "execution_count": null,
      "outputs": []
    },
    {
      "cell_type": "markdown",
      "metadata": {
        "id": "Air8og9TKiIZ",
        "colab_type": "text"
      },
      "source": [
        "#Normalize data by changing the range from 0-255 to 0-1"
      ]
    },
    {
      "cell_type": "code",
      "metadata": {
        "id": "rwzU_CLkKjVp",
        "colab_type": "code",
        "colab": {
          "base_uri": "https://localhost:8080/",
          "height": 68
        },
        "outputId": "56ad6d5c-bcc8-471f-9822-3d298282d6a9"
      },
      "source": [
        "x_train /=255.0\n",
        "x_test /=255.0\n",
        "print('x_train shape: ',x_train.shape)\n",
        "print(x_train.shape[0], 'train samples')\n",
        "print(x_test.shape[0], 'test samples')\n"
      ],
      "execution_count": null,
      "outputs": [
        {
          "output_type": "stream",
          "text": [
            "x_train shape:  (60000, 28, 28, 1)\n",
            "60000 train samples\n",
            "10000 test samples\n"
          ],
          "name": "stdout"
        }
      ]
    },
    {
      "cell_type": "markdown",
      "metadata": {
        "id": "ZNNS5o3pKx6E",
        "colab_type": "text"
      },
      "source": [
        "#Perform One-hot-encoding of data labels"
      ]
    },
    {
      "cell_type": "code",
      "metadata": {
        "id": "zezB8EQRK7Lm",
        "colab_type": "code",
        "colab": {}
      },
      "source": [
        "from tensorflow.keras.utils import to_categorical"
      ],
      "execution_count": null,
      "outputs": []
    },
    {
      "cell_type": "markdown",
      "metadata": {
        "id": "kIRaoLJmK_wP",
        "colab_type": "text"
      },
      "source": [
        "#one hot encode for output"
      ]
    },
    {
      "cell_type": "code",
      "metadata": {
        "id": "OQgITvSjLDwI",
        "colab_type": "code",
        "colab": {}
      },
      "source": [
        "y_train = to_categorical(y_train)\n",
        "y_test = to_categorical(y_test)"
      ],
      "execution_count": null,
      "outputs": []
    },
    {
      "cell_type": "markdown",
      "metadata": {
        "id": "bFpQP_AdLIWg",
        "colab_type": "text"
      },
      "source": [
        "#count cols in our hot encoded matrix"
      ]
    },
    {
      "cell_type": "code",
      "metadata": {
        "id": "qzLQDICJLMHX",
        "colab_type": "code",
        "colab": {
          "base_uri": "https://localhost:8080/",
          "height": 34
        },
        "outputId": "181f8e0e-2a29-45c9-b469-cdefe078c768"
      },
      "source": [
        "print('Number of classes: '+str(y_test.shape[1]))\n",
        "num_classes = y_test.shape[1]\n"
      ],
      "execution_count": null,
      "outputs": [
        {
          "output_type": "stream",
          "text": [
            "Number of classes: 10\n"
          ],
          "name": "stdout"
        }
      ]
    },
    {
      "cell_type": "markdown",
      "metadata": {
        "id": "1IPrb0K0LTF5",
        "colab_type": "text"
      },
      "source": [
        "#Create the CNN Model"
      ]
    },
    {
      "cell_type": "code",
      "metadata": {
        "id": "8OLoHfKgLaR4",
        "colab_type": "code",
        "colab": {}
      },
      "source": [
        "from tensorflow.keras.models import Sequential\n",
        "from tensorflow.keras.layers import Dense, Dropout, Flatten\n",
        "from tensorflow.keras.layers import Conv2D, MaxPooling2D\n",
        "from tensorflow.keras import backend as k\n",
        "from tensorflow.keras.optimizers import SGD"
      ],
      "execution_count": null,
      "outputs": []
    },
    {
      "cell_type": "markdown",
      "metadata": {
        "id": "lMUjyCykLiHQ",
        "colab_type": "text"
      },
      "source": [
        "#create the model"
      ]
    },
    {
      "cell_type": "code",
      "metadata": {
        "id": "WeGANamsLmug",
        "colab_type": "code",
        "colab": {}
      },
      "source": [
        "model = Sequential()"
      ],
      "execution_count": null,
      "outputs": []
    },
    {
      "cell_type": "markdown",
      "metadata": {
        "id": "49J7-kguL0lA",
        "colab_type": "text"
      },
      "source": [
        "#First Convolutional Layer, Filter size 32 which reduces layer size to 26*26*32\n",
        "#We use ReLU activation and our input shape 28*28*1"
      ]
    },
    {
      "cell_type": "code",
      "metadata": {
        "id": "5vLcEXxiL2MX",
        "colab_type": "code",
        "colab": {}
      },
      "source": [
        "model.add(Conv2D(32, kernel_size=(3,3), activation='relu', input_shape=input_shape))"
      ],
      "execution_count": null,
      "outputs": []
    },
    {
      "cell_type": "markdown",
      "metadata": {
        "id": "ITJUeQRKL9Nm",
        "colab_type": "text"
      },
      "source": [
        "#Second Convolutional layer, Filter size of 64 which reduces our layer size to 24*24*64\n"
      ]
    },
    {
      "cell_type": "code",
      "metadata": {
        "id": "GWXiKRdgMA7z",
        "colab_type": "code",
        "colab": {}
      },
      "source": [
        "model.add(Conv2D(64, (3,3), activation='relu'))"
      ],
      "execution_count": null,
      "outputs": []
    },
    {
      "cell_type": "markdown",
      "metadata": {
        "id": "dS1O2hVtMNDn",
        "colab_type": "text"
      },
      "source": [
        "#Use maxpooling with kernel size of 2*2 reducing size to 12*12*64"
      ]
    },
    {
      "cell_type": "code",
      "metadata": {
        "id": "l_j4CgJPMN5y",
        "colab_type": "code",
        "colab": {}
      },
      "source": [
        "model.add(MaxPooling2D(pool_size=(2,2)))"
      ],
      "execution_count": null,
      "outputs": []
    },
    {
      "cell_type": "markdown",
      "metadata": {
        "id": "nE4AhZYLMSc6",
        "colab_type": "text"
      },
      "source": [
        "#Dropout P setting as 0.25 ro reduce overfitting"
      ]
    },
    {
      "cell_type": "code",
      "metadata": {
        "id": "piSYHaspMeDc",
        "colab_type": "code",
        "colab": {
          "base_uri": "https://localhost:8080/",
          "height": 442
        },
        "outputId": "694ea88b-fb99-4182-eeda-2dc7cc173409"
      },
      "source": [
        "model.add(Dropout(0.25))\n",
        "#Flatten our Tensor object befor input into our dense layer\n",
        "#A flatten op on a tensor reshapes the tensor to have the shape that is \n",
        "#equal to the number of elements in the tensor\n",
        "#Our CNN goes from 12*12*64 to 9*16*1\n",
        "model.add(Flatten())\n",
        "#We use another Dropout layer\n",
        "model.add(Dropout(0.5))\n",
        "#Create a fully connected/Dense layer with an output of each class (10)\n",
        "model.add(Dense(num_classes, activation='softmax'))\n",
        "#Compileour model, creates an object that stores the model. We set the optimizer\n",
        "#to use stochastic Gradient Descent (Learning rate of 0.01)\n",
        "#We set loss function to be categorical_crossentropy as it's suitable for multiclass\n",
        "#problems. And finally the metrics ( to judge the performance of the model)\n",
        "#We use accuracy\n",
        "model.compile(loss='categorical_crossentropy', optimizer=SGD(0.01),metrics=['accuracy'])\n",
        "#The summary function can be used to display the model layers and parameters\n",
        "print(model.summary())"
      ],
      "execution_count": null,
      "outputs": [
        {
          "output_type": "stream",
          "text": [
            "Model: \"sequential_1\"\n",
            "_________________________________________________________________\n",
            "Layer (type)                 Output Shape              Param #   \n",
            "=================================================================\n",
            "conv2d (Conv2D)              (None, 26, 26, 32)        320       \n",
            "_________________________________________________________________\n",
            "conv2d_1 (Conv2D)            (None, 24, 24, 64)        18496     \n",
            "_________________________________________________________________\n",
            "max_pooling2d (MaxPooling2D) (None, 12, 12, 64)        0         \n",
            "_________________________________________________________________\n",
            "dropout (Dropout)            (None, 12, 12, 64)        0         \n",
            "_________________________________________________________________\n",
            "dropout_1 (Dropout)          (None, 12, 12, 64)        0         \n",
            "_________________________________________________________________\n",
            "flatten (Flatten)            (None, 9216)              0         \n",
            "_________________________________________________________________\n",
            "dropout_2 (Dropout)          (None, 9216)              0         \n",
            "_________________________________________________________________\n",
            "dense (Dense)                (None, 10)                92170     \n",
            "=================================================================\n",
            "Total params: 110,986\n",
            "Trainable params: 110,986\n",
            "Non-trainable params: 0\n",
            "_________________________________________________________________\n",
            "None\n"
          ],
          "name": "stdout"
        }
      ]
    },
    {
      "cell_type": "markdown",
      "metadata": {
        "id": "DZwOMxZiNFks",
        "colab_type": "text"
      },
      "source": [
        "#Train the CNN\n"
      ]
    },
    {
      "cell_type": "code",
      "metadata": {
        "id": "H9WnVPQCNO-e",
        "colab_type": "code",
        "colab": {
          "base_uri": "https://localhost:8080/",
          "height": 391
        },
        "outputId": "b701af4c-e2e9-4098-afa6-bfced28e8b75"
      },
      "source": [
        "batch_size = 32\n",
        "epochs = 10\n",
        "#Store the results for plotting later\n",
        "# in our fit function we specify our dataset (X_train, y_train)\n",
        "#batch_size (typically 16 to 128 --Depending on RAM). NUmber of epochs (10 to 100)\n",
        "#Validation dataset (X_test, y_test)\n",
        "#Verbose = 1, setting training to output performance metric every epoch\n",
        "history = model.fit(x_train, y_train, batch_size=batch_size,epochs=epochs, \n",
        "                    verbose=1, \n",
        "                    validation_batch_size=(x_test,y_test))\n",
        "#We obtain accuracy score using the evaluative fn \n",
        "score=model.evaluate(x_test,y_test,verbose=0)\n",
        "print('Test loss: ', score[0])\n",
        "print('Test Accuracy: ', score[1])"
      ],
      "execution_count": null,
      "outputs": [
        {
          "output_type": "stream",
          "text": [
            "Epoch 1/10\n",
            "1875/1875 [==============================] - 152s 81ms/step - loss: 0.5629 - accuracy: 0.8260\n",
            "Epoch 2/10\n",
            "1875/1875 [==============================] - 154s 82ms/step - loss: 0.2700 - accuracy: 0.9196\n",
            "Epoch 3/10\n",
            "1875/1875 [==============================] - 149s 80ms/step - loss: 0.1781 - accuracy: 0.9479\n",
            "Epoch 4/10\n",
            "1875/1875 [==============================] - 150s 80ms/step - loss: 0.1417 - accuracy: 0.9579\n",
            "Epoch 5/10\n",
            "1875/1875 [==============================] - 148s 79ms/step - loss: 0.1202 - accuracy: 0.9639\n",
            "Epoch 6/10\n",
            "1875/1875 [==============================] - 147s 78ms/step - loss: 0.1115 - accuracy: 0.9661\n",
            "Epoch 7/10\n",
            "1875/1875 [==============================] - 147s 78ms/step - loss: 0.1015 - accuracy: 0.9696\n",
            "Epoch 8/10\n",
            "1875/1875 [==============================] - 147s 78ms/step - loss: 0.0931 - accuracy: 0.9724\n",
            "Epoch 9/10\n",
            "1875/1875 [==============================] - 147s 79ms/step - loss: 0.0900 - accuracy: 0.9727\n",
            "Epoch 10/10\n",
            "1875/1875 [==============================] - 149s 80ms/step - loss: 0.0836 - accuracy: 0.9744\n",
            "Test loss:  0.04973946884274483\n",
            "Test Accuracy:  0.9830999970436096\n"
          ],
          "name": "stdout"
        }
      ]
    },
    {
      "cell_type": "markdown",
      "metadata": {
        "id": "qE3dowi29C21",
        "colab_type": "text"
      },
      "source": [
        "#plot loss charts"
      ]
    },
    {
      "cell_type": "code",
      "metadata": {
        "id": "Q5YLxc80uAfh",
        "colab_type": "code",
        "colab": {}
      },
      "source": [
        "from google.colab import drive\n",
        "drive.mount('/content/drive')"
      ],
      "execution_count": null,
      "outputs": []
    },
    {
      "cell_type": "code",
      "metadata": {
        "id": "eB4cREfG9J2R",
        "colab_type": "code",
        "colab": {
          "base_uri": "https://localhost:8080/",
          "height": 231
        },
        "outputId": "8be5e19c-d9fe-4e64-f066-dfe06a09602c"
      },
      "source": [
        "import matplotlib.pyplot as plt\n",
        "#use the history object to get our saved performance results\n",
        "history_dict = History.history\n",
        "\n",
        "#extract the loss and the validation losses\n",
        "loss_values=history_dict['loss']\n",
        "val_loss_values=history_dict['val_loss']\n",
        "\n",
        "#get the number of epochs and create an array up to that number using range()\n",
        "epochs=range(1, len(loss_values) +1)\n",
        "\n",
        "#Plot line charts for both validation and loss\n",
        "line1 = plt.plot(epochs, val_loss_values, label='Validation/Test loss')\n",
        "line2 = plt.plot(epochs, loss_values, label='Training loss')\n",
        "plt.setp(line1, linewidth=2.0, marker='+', markersize=10.0)\n",
        "plt.setp(line2, linewidth=2.0, marker='4', markersize=10.0)\n",
        "plt.xlabel('Epochs')\n",
        "plt.ylabel('Loss')\n",
        "plt.grid(True)\n",
        "plt.legend()\n",
        "plt.show()"
      ],
      "execution_count": 3,
      "outputs": [
        {
          "output_type": "error",
          "ename": "NameError",
          "evalue": "ignored",
          "traceback": [
            "\u001b[0;31m---------------------------------------------------------------------------\u001b[0m",
            "\u001b[0;31mNameError\u001b[0m                                 Traceback (most recent call last)",
            "\u001b[0;32m<ipython-input-3-ca6fed7a8516>\u001b[0m in \u001b[0;36m<module>\u001b[0;34m()\u001b[0m\n\u001b[1;32m      1\u001b[0m \u001b[0;32mimport\u001b[0m \u001b[0mmatplotlib\u001b[0m\u001b[0;34m.\u001b[0m\u001b[0mpyplot\u001b[0m \u001b[0;32mas\u001b[0m \u001b[0mplt\u001b[0m\u001b[0;34m\u001b[0m\u001b[0;34m\u001b[0m\u001b[0m\n\u001b[1;32m      2\u001b[0m \u001b[0;31m#use the history object to get our saved performance results\u001b[0m\u001b[0;34m\u001b[0m\u001b[0;34m\u001b[0m\u001b[0;34m\u001b[0m\u001b[0m\n\u001b[0;32m----> 3\u001b[0;31m \u001b[0mhistory_dict\u001b[0m \u001b[0;34m=\u001b[0m \u001b[0mHistory\u001b[0m\u001b[0;34m.\u001b[0m\u001b[0mhistory\u001b[0m\u001b[0;34m\u001b[0m\u001b[0;34m\u001b[0m\u001b[0m\n\u001b[0m\u001b[1;32m      4\u001b[0m \u001b[0;34m\u001b[0m\u001b[0m\n\u001b[1;32m      5\u001b[0m \u001b[0;31m#extract the loss and the validation losses\u001b[0m\u001b[0;34m\u001b[0m\u001b[0;34m\u001b[0m\u001b[0;34m\u001b[0m\u001b[0m\n",
            "\u001b[0;31mNameError\u001b[0m: name 'History' is not defined"
          ]
        }
      ]
    },
    {
      "cell_type": "markdown",
      "metadata": {
        "id": "k8hK9-VJAL9X",
        "colab_type": "text"
      },
      "source": [
        "#Plot of Accuracy"
      ]
    },
    {
      "cell_type": "markdown",
      "metadata": {
        "id": "z9uZAkPkm_Fa",
        "colab_type": "text"
      },
      "source": [
        ""
      ]
    },
    {
      "cell_type": "code",
      "metadata": {
        "id": "hKhGXp6WAQqj",
        "colab_type": "code",
        "colab": {
          "base_uri": "https://localhost:8080/",
          "height": 197
        },
        "outputId": "153faa3c-58bd-45dd-9869-02f280070e07"
      },
      "source": [
        "#Plotting the accuracy chart\n",
        "import matplotlib.pyplot as plt\n",
        "#Use the history object to get our svaed performace results\n",
        "from keras.callbacks import History \n",
        "history_dict=history.history\n"
      ],
      "execution_count": null,
      "outputs": [
        {
          "output_type": "error",
          "ename": "NameError",
          "evalue": "ignored",
          "traceback": [
            "\u001b[0;31m---------------------------------------------------------------------------\u001b[0m",
            "\u001b[0;31mNameError\u001b[0m                                 Traceback (most recent call last)",
            "\u001b[0;32m<ipython-input-5-756374cc6e9d>\u001b[0m in \u001b[0;36m<module>\u001b[0;34m()\u001b[0m\n\u001b[1;32m      3\u001b[0m \u001b[0;31m#Use the history object to get our svaed performace results\u001b[0m\u001b[0;34m\u001b[0m\u001b[0;34m\u001b[0m\u001b[0;34m\u001b[0m\u001b[0m\n\u001b[1;32m      4\u001b[0m \u001b[0;32mfrom\u001b[0m \u001b[0mkeras\u001b[0m\u001b[0;34m.\u001b[0m\u001b[0mcallbacks\u001b[0m \u001b[0;32mimport\u001b[0m \u001b[0mHistory\u001b[0m\u001b[0;34m\u001b[0m\u001b[0;34m\u001b[0m\u001b[0m\n\u001b[0;32m----> 5\u001b[0;31m \u001b[0mhistory_dict\u001b[0m\u001b[0;34m=\u001b[0m\u001b[0mhistory\u001b[0m\u001b[0;34m.\u001b[0m\u001b[0mhistory\u001b[0m\u001b[0;34m\u001b[0m\u001b[0;34m\u001b[0m\u001b[0m\n\u001b[0m",
            "\u001b[0;31mNameError\u001b[0m: name 'history' is not defined"
          ]
        }
      ]
    },
    {
      "cell_type": "markdown",
      "metadata": {
        "id": "V9r4aHidnEh8",
        "colab_type": "text"
      },
      "source": [
        "#extract the loss and the validation losses"
      ]
    },
    {
      "cell_type": "code",
      "metadata": {
        "id": "Z2fEkQhanK2X",
        "colab_type": "code",
        "colab": {
          "base_uri": "https://localhost:8080/",
          "height": 214
        },
        "outputId": "510a3bde-96b3-4cd6-a51a-a156b387a976"
      },
      "source": [
        "acc_values=history_dict['accuracy']\n",
        "val_acc_values=history_dict['val_accuracy']\n",
        "#get the number of epochs and create an array up to that number using range()\n",
        "epochs=range(1, len(acc_values) +1)\n"
      ],
      "execution_count": 2,
      "outputs": [
        {
          "output_type": "error",
          "ename": "NameError",
          "evalue": "ignored",
          "traceback": [
            "\u001b[0;31m---------------------------------------------------------------------------\u001b[0m",
            "\u001b[0;31mNameError\u001b[0m                                 Traceback (most recent call last)",
            "\u001b[0;32m<ipython-input-2-e0f405ac1aaa>\u001b[0m in \u001b[0;36m<module>\u001b[0;34m()\u001b[0m\n\u001b[0;32m----> 1\u001b[0;31m \u001b[0macc_values\u001b[0m\u001b[0;34m=\u001b[0m\u001b[0mhistory_dict\u001b[0m\u001b[0;34m[\u001b[0m\u001b[0;34m'accuracy'\u001b[0m\u001b[0;34m]\u001b[0m\u001b[0;34m\u001b[0m\u001b[0;34m\u001b[0m\u001b[0m\n\u001b[0m\u001b[1;32m      2\u001b[0m \u001b[0mval_acc_values\u001b[0m\u001b[0;34m=\u001b[0m\u001b[0mhistory_dict\u001b[0m\u001b[0;34m[\u001b[0m\u001b[0;34m'val_accuracy'\u001b[0m\u001b[0;34m]\u001b[0m\u001b[0;34m\u001b[0m\u001b[0;34m\u001b[0m\u001b[0m\n\u001b[1;32m      3\u001b[0m \u001b[0;31m#get the number of epochs and create an array up to that number using range()\u001b[0m\u001b[0;34m\u001b[0m\u001b[0;34m\u001b[0m\u001b[0;34m\u001b[0m\u001b[0m\n\u001b[1;32m      4\u001b[0m \u001b[0mepochs\u001b[0m\u001b[0;34m=\u001b[0m\u001b[0mrange\u001b[0m\u001b[0;34m(\u001b[0m\u001b[0;36m1\u001b[0m\u001b[0;34m,\u001b[0m \u001b[0mlen\u001b[0m\u001b[0;34m(\u001b[0m\u001b[0macc_values\u001b[0m\u001b[0;34m)\u001b[0m \u001b[0;34m+\u001b[0m\u001b[0;36m1\u001b[0m\u001b[0;34m)\u001b[0m\u001b[0;34m\u001b[0m\u001b[0;34m\u001b[0m\u001b[0m\n",
            "\u001b[0;31mNameError\u001b[0m: name 'history_dict' is not defined"
          ]
        }
      ]
    },
    {
      "cell_type": "markdown",
      "metadata": {
        "id": "LxtxWDL7o6vP",
        "colab_type": "text"
      },
      "source": [
        ""
      ]
    },
    {
      "cell_type": "markdown",
      "metadata": {
        "id": "IDz0thzGo7_a",
        "colab_type": "text"
      },
      "source": [
        "#Plot line charts for both validation and loss"
      ]
    },
    {
      "cell_type": "code",
      "metadata": {
        "id": "Dac1LuW3pICx",
        "colab_type": "code",
        "colab": {
          "base_uri": "https://localhost:8080/",
          "height": 231
        },
        "outputId": "8e21b787-a459-4090-890a-4448f1239c8e"
      },
      "source": [
        "line1 = plt.plot(epochs, val_acc_values, label='Validation/Test Accuracy')\n",
        "line2 = plt.plot(epochs, acc_values, label='Training')\n",
        "plt.setp(line1, linewidth=2.0, marker='+', markersize=10.0)\n",
        "plt.setp(line2, linewidth=2.0, marker='4', markersize=10.0)\n",
        "plt.xlabel('Epochs')\n",
        "plt.ylabel('Loss')\n",
        "plt.grid(True)\n",
        "plt.legend()\n",
        "plt.show()\n",
        "\n"
      ],
      "execution_count": 1,
      "outputs": [
        {
          "output_type": "error",
          "ename": "NameError",
          "evalue": "ignored",
          "traceback": [
            "\u001b[0;31m---------------------------------------------------------------------------\u001b[0m",
            "\u001b[0;31mNameError\u001b[0m                                 Traceback (most recent call last)",
            "\u001b[0;32m<ipython-input-1-92b6a08bde71>\u001b[0m in \u001b[0;36m<module>\u001b[0;34m()\u001b[0m\n\u001b[0;32m----> 1\u001b[0;31m \u001b[0mline1\u001b[0m \u001b[0;34m=\u001b[0m \u001b[0mplt\u001b[0m\u001b[0;34m.\u001b[0m\u001b[0mplot\u001b[0m\u001b[0;34m(\u001b[0m\u001b[0mepochs\u001b[0m\u001b[0;34m,\u001b[0m \u001b[0mval_acc_values\u001b[0m\u001b[0;34m,\u001b[0m \u001b[0mlabel\u001b[0m\u001b[0;34m=\u001b[0m\u001b[0;34m'Validation/Test Accuracy'\u001b[0m\u001b[0;34m)\u001b[0m\u001b[0;34m\u001b[0m\u001b[0;34m\u001b[0m\u001b[0m\n\u001b[0m\u001b[1;32m      2\u001b[0m \u001b[0mline2\u001b[0m \u001b[0;34m=\u001b[0m \u001b[0mplt\u001b[0m\u001b[0;34m.\u001b[0m\u001b[0mplot\u001b[0m\u001b[0;34m(\u001b[0m\u001b[0mepochs\u001b[0m\u001b[0;34m,\u001b[0m \u001b[0macc_values\u001b[0m\u001b[0;34m,\u001b[0m \u001b[0mlabel\u001b[0m\u001b[0;34m=\u001b[0m\u001b[0;34m'Training'\u001b[0m\u001b[0;34m)\u001b[0m\u001b[0;34m\u001b[0m\u001b[0;34m\u001b[0m\u001b[0m\n\u001b[1;32m      3\u001b[0m \u001b[0mplt\u001b[0m\u001b[0;34m.\u001b[0m\u001b[0msetp\u001b[0m\u001b[0;34m(\u001b[0m\u001b[0mline1\u001b[0m\u001b[0;34m,\u001b[0m \u001b[0mlinewidth\u001b[0m\u001b[0;34m=\u001b[0m\u001b[0;36m2.0\u001b[0m\u001b[0;34m,\u001b[0m \u001b[0mmarker\u001b[0m\u001b[0;34m=\u001b[0m\u001b[0;34m'+'\u001b[0m\u001b[0;34m,\u001b[0m \u001b[0mmarkersize\u001b[0m\u001b[0;34m=\u001b[0m\u001b[0;36m10.0\u001b[0m\u001b[0;34m)\u001b[0m\u001b[0;34m\u001b[0m\u001b[0;34m\u001b[0m\u001b[0m\n\u001b[1;32m      4\u001b[0m \u001b[0mplt\u001b[0m\u001b[0;34m.\u001b[0m\u001b[0msetp\u001b[0m\u001b[0;34m(\u001b[0m\u001b[0mline2\u001b[0m\u001b[0;34m,\u001b[0m \u001b[0mlinewidth\u001b[0m\u001b[0;34m=\u001b[0m\u001b[0;36m2.0\u001b[0m\u001b[0;34m,\u001b[0m \u001b[0mmarker\u001b[0m\u001b[0;34m=\u001b[0m\u001b[0;34m'4'\u001b[0m\u001b[0;34m,\u001b[0m \u001b[0mmarkersize\u001b[0m\u001b[0;34m=\u001b[0m\u001b[0;36m10.0\u001b[0m\u001b[0;34m)\u001b[0m\u001b[0;34m\u001b[0m\u001b[0;34m\u001b[0m\u001b[0m\n\u001b[1;32m      5\u001b[0m \u001b[0mplt\u001b[0m\u001b[0;34m.\u001b[0m\u001b[0mxlabel\u001b[0m\u001b[0;34m(\u001b[0m\u001b[0;34m'Epochs'\u001b[0m\u001b[0;34m)\u001b[0m\u001b[0;34m\u001b[0m\u001b[0;34m\u001b[0m\u001b[0m\n",
            "\u001b[0;31mNameError\u001b[0m: name 'plt' is not defined"
          ]
        }
      ]
    },
    {
      "cell_type": "markdown",
      "metadata": {
        "id": "-xSNEC-7pZRR",
        "colab_type": "text"
      },
      "source": [
        "#saving the model"
      ]
    },
    {
      "cell_type": "markdown",
      "metadata": {
        "id": "JUpbx58ap1_b",
        "colab_type": "text"
      },
      "source": [
        ""
      ]
    },
    {
      "cell_type": "code",
      "metadata": {
        "id": "l7AbS3lmp806",
        "colab_type": "code",
        "colab": {}
      },
      "source": [
        "model.save('mnist_simple_cnn_10_Epochs.h5')\n",
        "print('model is saved')\n",
        "import numpy as np\n",
        "figure=plt.figure(figsize=(20,20))\n",
        "for i in range(5):\n",
        "  figure.add_subplot(1,5,i+1)\n",
        "  random_idx=np.random.randint(0,len(x_test))\n",
        "  plt.imshow(x_test[random_idx,:,:,0],cmap='gray')\n",
        "  plt.axis('off')\n",
        "  print(np.squeeze(np.argmax(model.predict(x_test[random_idx].reshape(1,28,28,1)), axis=1),axis=0))\n",
        "  "
      ],
      "execution_count": null,
      "outputs": []
    },
    {
      "cell_type": "markdown",
      "metadata": {
        "id": "SmxFT-Vgq0dp",
        "colab_type": "text"
      },
      "source": [
        ""
      ]
    }
  ]
}
