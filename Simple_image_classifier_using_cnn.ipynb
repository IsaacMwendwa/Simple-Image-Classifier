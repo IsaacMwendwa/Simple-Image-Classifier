{
  "nbformat": 4,
  "nbformat_minor": 0,
  "metadata": {
    "colab": {
      "name": "Simple_image_classifier_using_cnn.ipynb",
      "provenance": [],
      "collapsed_sections": []
    },
    "kernelspec": {
      "name": "python3",
      "display_name": "Python 3"
    }
  },
  "cells": [
    {
      "cell_type": "markdown",
      "metadata": {
        "id": "RWnkhqnoo2cn"
      },
      "source": [
        "#objective\n",
        "To craete a CNN model and use the model to classify handwritten digits.\n",
        "\n"
      ]
    },
    {
      "cell_type": "markdown",
      "metadata": {
        "id": "7D_yXERdqOEX"
      },
      "source": [
        "#workflow\n",
        "1. Load the dataset MNIST and examine the structure\n",
        "\n",
        "\n",
        "*   use any library to load the dataset (include both tensorflow and pytorch modules )\n",
        "*   take a look at data, inspecting its size,shape and quantity.\n",
        "* view random samples using either openCV or MATPLOTLIB of the handwritten digits and observe the complexiy of the image \n",
        " 2. using Numpy to prepare the dataset for the training\n",
        "\n",
        "\n",
        "*   Ensure the format or shape of the data is appropriate for input into the model. (One-hot-encoding) https://www.geeksforgeeks.org/ml-one-hot-encoding-of-datasets-in-python/\n",
        "*   Ensure the data types are correct and data is normalized\n",
        "3. Create a CNN with the following specifications\n",
        "*   Input dimensions 28 * 28 * 1\n",
        "*   Two Convolution layers (Kernel size 3*3) first with 64 filters, second 32. Use ReLU (Rectified Linear Unit) - activation layer\n",
        "*   Max Pooling size 2*2\n",
        "*   Dropout Layer 0.25\n",
        "*   Dense layer with 128 outputs\n",
        "*   Add another dropout layer with rate setting of 0.5\n",
        "*   Add final dropout layer that indicates the class probabilities.\n",
        "4. Train the CNN on the MNIST dataset prepared in step 2\n",
        "*   Train for atleast 10 epochs using batch size of 32\n",
        "5. Plot gragh showing how your training and validation loss and accuracy chached with respect to Epochs completed.\n",
        "6. Save the model, will be used in part two.\n",
        "7. Test the models on random samples on the test data.\n",
        "\n",
        "\n",
        " \n",
        "\n",
        "\n",
        "\n",
        "\n"
      ]
    },
    {
      "cell_type": "markdown",
      "metadata": {
        "id": "gdvK95O1m73h"
      },
      "source": [
        ""
      ]
    },
    {
      "cell_type": "markdown",
      "metadata": {
        "id": "rAhUsnP2mpOG"
      },
      "source": [
        "\n"
      ]
    },
    {
      "cell_type": "markdown",
      "metadata": {
        "id": "2sYm4Sjyo4n9"
      },
      "source": [
        ""
      ]
    },
    {
      "cell_type": "markdown",
      "metadata": {
        "id": "1zEYejiKo9Ur"
      },
      "source": [
        "\n",
        "# deliverable\n",
        "Jupyter Notebook that documents the workflow as we take the MNIST dataset, view samples, convert into right shape/format as required for the deep learning library\n"
      ]
    },
    {
      "cell_type": "markdown",
      "metadata": {
        "id": "Vt8X90s8GG-B"
      },
      "source": [
        "# Loading the Handwritten Digit Dataset (MNIST)\n",
        "\"\"\""
      ]
    },
    {
      "cell_type": "markdown",
      "metadata": {
        "id": "MkZT1LuwndbX"
      },
      "source": [
        ""
      ]
    },
    {
      "cell_type": "code",
      "metadata": {
        "id": "DCl_6h0IGMot"
      },
      "source": [
        "from tensorflow.keras.datasets import mnist\n"
      ],
      "execution_count": null,
      "outputs": []
    },
    {
      "cell_type": "markdown",
      "metadata": {
        "id": "soJ5y_15pCIO"
      },
      "source": [
        "load the dataset(divide into train and test data)"
      ]
    },
    {
      "cell_type": "code",
      "metadata": {
        "id": "Es4rwd94mkrY"
      },
      "source": [
        "(x_train, y_train),(x_test, y_test) = mnist.load_data()\n"
      ],
      "execution_count": null,
      "outputs": []
    },
    {
      "cell_type": "markdown",
      "metadata": {
        "id": "aQFiZTNFImsC"
      },
      "source": [
        "#Display the number of samples in x_train, x_test, y_train, y_test"
      ]
    },
    {
      "cell_type": "code",
      "metadata": {
        "id": "UiNOCtVtIpRA",
        "outputId": "752f69c5-9782-4461-b64c-33e4d9152dc6",
        "colab": {
          "base_uri": "https://localhost:8080/",
          "height": 256
        }
      },
      "source": [
        "print(\"initial shape or dimensions of x_train\",str(x_train.shape)+'\\n')\n",
        "print('Number of samples in training data: '+str(len(x_train)))\n",
        "print('Number of labels in training data: '+ str(len(y_train)))\n",
        "print('Number of samples in test data: '+str(len(x_test)))\n",
        "print('Number of labels in test data: '+str(len(y_test))+ '\\n')\n",
        "print('Dimensions of x_train: '+str(x_train[0].shape))\n",
        "print('Labels in x_train: '+str(y_train.shape)+'\\n')\n",
        "print('Dimensions of x_test: '+str(x_test[0].shape))\n",
        "print('Labels in x_test: '+str(y_test.shape)+'\\n')"
      ],
      "execution_count": null,
      "outputs": [
        {
          "output_type": "stream",
          "text": [
            "initial shape or dimensions of x_train (60000, 28, 28)\n",
            "\n",
            "Number of samples in training data: 60000\n",
            "Number of labels in training data: 60000\n",
            "Number of samples in test data: 10000\n",
            "Number of labels in test data: 10000\n",
            "\n",
            "Dimensions of x_train: (28, 28)\n",
            "Labels in x_train: (60000,)\n",
            "\n",
            "Dimensions of x_test: (28, 28)\n",
            "Labels in x_test: (10000,)\n",
            "\n"
          ],
          "name": "stdout"
        }
      ]
    },
    {
      "cell_type": "markdown",
      "metadata": {
        "id": "i-DDUopkI04b"
      },
      "source": [
        "# Take a look at the images in the Dataset"
      ]
    },
    {
      "cell_type": "code",
      "metadata": {
        "id": "Tg5xN1gqI5tj"
      },
      "source": [
        "import matplotlib.pyplot as plt\n",
        "import numpy as np"
      ],
      "execution_count": null,
      "outputs": []
    },
    {
      "cell_type": "markdown",
      "metadata": {
        "id": "bPyLqYIsJGBL"
      },
      "source": [
        "#Plot 6 images in subplots\n",
        "#set the colormap to grey since our image data is in greyscale"
      ]
    },
    {
      "cell_type": "code",
      "metadata": {
        "id": "LBcCnDcjJJO_",
        "outputId": "4d6f3ab1-62a8-4ffc-9e60-82d67c16d268",
        "colab": {
          "base_uri": "https://localhost:8080/",
          "height": 191
        }
      },
      "source": [
        "plt.subplot(331)\n",
        "random_num = np.random.randint(0, len(x_train))\n",
        "_=plt.imshow(x_train[random_num],cmap=plt.get_cmap('gray'))\n",
        "plt.subplot(332)\n",
        "random_num = np.random.randint(0, len(x_train))\n",
        "_=plt.imshow(x_train[random_num],cmap=plt.get_cmap('gray'))\n",
        "\n",
        "plt.subplot(333)\n",
        "random_num = np.random.randint(0, len(x_train))\n",
        "_=plt.imshow(x_train[random_num],cmap=plt.get_cmap('gray'))\n",
        "\n",
        "plt.subplot(334)\n",
        "random_num = np.random.randint(0, len(x_train))\n",
        "_=plt.imshow(x_train[random_num],cmap=plt.get_cmap('gray'))\n",
        "\n",
        "plt.subplot(335)\n",
        "random_num = np.random.randint(0, len(x_train))\n",
        "_=plt.imshow(x_train[random_num],cmap=plt.get_cmap('gray'))\n",
        "\n",
        "plt.subplot(336)\n",
        "random_num = np.random.randint(0, len(x_train))\n",
        "_=plt.imshow(x_train[random_num],cmap=plt.get_cmap('gray'))\n",
        "\n"
      ],
      "execution_count": null,
      "outputs": [
        {
          "output_type": "display_data",
          "data": {
            "image/png": "[encoded data removed]",
            "text/plain": [
              "<Figure size 432x288 with 6 Axes>"
            ]
          },
          "metadata": {
            "tags": [],
            "needs_background": "light"
          }
        }
      ]
    },
    {
      "cell_type": "markdown",
      "metadata": {
        "id": "ouJkk1NPJnwv"
      },
      "source": [
        "#Preparing Dataset for Keras\n",
        "\n",
        "Keras Requires input data as a 4-d shape of (60000,28,28,1). When we initially loaded our data, x_train was (60000, 28,28). We need out label to be one-hot-encoded ().\n",
        "\"\"\""
      ]
    },
    {
      "cell_type": "markdown",
      "metadata": {
        "id": "7CfcAqEWJse0"
      },
      "source": [
        "#Store rows and columns"
      ]
    },
    {
      "cell_type": "code",
      "metadata": {
        "id": "Al5lWlaGJv_p"
      },
      "source": [
        "img_rows = x_train[0].shape[0]\n",
        "img_cols = x_train[0].shape[1]"
      ],
      "execution_count": null,
      "outputs": []
    },
    {
      "cell_type": "markdown",
      "metadata": {
        "id": "BKMOhNTZJ5qq"
      },
      "source": [
        "#get data in right shape for keras.\n",
        "#add a forth dimensio to our data (60000,28,28) to (60000,28,28,1)"
      ]
    },
    {
      "cell_type": "code",
      "metadata": {
        "id": "C2UZ6GvvJReF"
      },
      "source": [
        "x_train=x_train.reshape(x_train.shape[0],img_rows, img_cols,1)\n",
        "x_test=x_test.reshape(x_test.shape[0],img_rows, img_cols,1)\n"
      ],
      "execution_count": null,
      "outputs": []
    },
    {
      "cell_type": "markdown",
      "metadata": {
        "id": "It8eMHtAKDoz"
      },
      "source": [
        "#Store shape of single image for future use as a variable storing our input shape"
      ]
    },
    {
      "cell_type": "code",
      "metadata": {
        "id": "he5ZRnodKJS8"
      },
      "source": [
        "input_shape = (img_rows,img_cols,1)"
      ],
      "execution_count": null,
      "outputs": []
    },
    {
      "cell_type": "markdown",
      "metadata": {
        "id": "YnOn3UqaKP10"
      },
      "source": [
        "#Change image type to float"
      ]
    },
    {
      "cell_type": "code",
      "metadata": {
        "id": "jIioHQvaKTPW"
      },
      "source": [
        "x_train=x_train.astype('float32')\n",
        "x_test = x_test.astype('float32')\n"
      ],
      "execution_count": null,
      "outputs": []
    },
    {
      "cell_type": "markdown",
      "metadata": {
        "id": "Air8og9TKiIZ"
      },
      "source": [
        "#Normalize data by changing the range from 0-255 to 0-1"
      ]
    },
    {
      "cell_type": "code",
      "metadata": {
        "id": "rwzU_CLkKjVp",
        "outputId": "3a6de010-1bcf-437c-ccd7-cb16cfb26427",
        "colab": {
          "base_uri": "https://localhost:8080/",
          "height": 72
        }
      },
      "source": [
        "x_train /=255.0\n",
        "x_test /=255.0\n",
        "print('x_train shape: ',x_train.shape)\n",
        "print(x_train.shape[0], 'train samples')\n",
        "print(x_test.shape[0], 'test samples')\n"
      ],
      "execution_count": null,
      "outputs": [
        {
          "output_type": "stream",
          "text": [
            "x_train shape:  (60000, 28, 28, 1)\n",
            "60000 train samples\n",
            "10000 test samples\n"
          ],
          "name": "stdout"
        }
      ]
    },
    {
      "cell_type": "markdown",
      "metadata": {
        "id": "ZNNS5o3pKx6E"
      },
      "source": [
        "#Perform One-hot-encoding of data labels"
      ]
    },
    {
      "cell_type": "code",
      "metadata": {
        "id": "zezB8EQRK7Lm"
      },
      "source": [
        "from tensorflow.keras.utils import to_categorical"
      ],
      "execution_count": null,
      "outputs": []
    },
    {
      "cell_type": "markdown",
      "metadata": {
        "id": "kIRaoLJmK_wP"
      },
      "source": [
        "#one hot encode for output"
      ]
    },
    {
      "cell_type": "code",
      "metadata": {
        "id": "OQgITvSjLDwI"
      },
      "source": [
        "y_train = to_categorical(y_train)\n",
        "y_test = to_categorical(y_test)"
      ],
      "execution_count": null,
      "outputs": []
    },
    {
      "cell_type": "markdown",
      "metadata": {
        "id": "bFpQP_AdLIWg"
      },
      "source": [
        "#count cols in our hot encoded matrix"
      ]
    },
    {
      "cell_type": "code",
      "metadata": {
        "id": "qzLQDICJLMHX",
        "outputId": "d75b03b9-725d-4ab4-92e1-fe00682e8d64",
        "colab": {
          "base_uri": "https://localhost:8080/",
          "height": 35
        }
      },
      "source": [
        "print('Number of classes: '+str(y_test.shape[1]))\n",
        "num_classes = y_test.shape[1]\n"
      ],
      "execution_count": null,
      "outputs": [
        {
          "output_type": "stream",
          "text": [
            "Number of classes: 10\n"
          ],
          "name": "stdout"
        }
      ]
    },
    {
      "cell_type": "markdown",
      "metadata": {
        "id": "1IPrb0K0LTF5"
      },
      "source": [
        "#Create the CNN Model"
      ]
    },
    {
      "cell_type": "code",
      "metadata": {
        "id": "8OLoHfKgLaR4"
      },
      "source": [
        "from tensorflow.keras.models import Sequential\n",
        "from tensorflow.keras.layers import Dense, Dropout, Flatten\n",
        "from tensorflow.keras.layers import Conv2D, MaxPooling2D\n",
        "from tensorflow.keras import backend as k\n",
        "from tensorflow.keras.optimizers import SGD"
      ],
      "execution_count": null,
      "outputs": []
    },
    {
      "cell_type": "markdown",
      "metadata": {
        "id": "lMUjyCykLiHQ"
      },
      "source": [
        "#create the model"
      ]
    },
    {
      "cell_type": "code",
      "metadata": {
        "id": "WeGANamsLmug"
      },
      "source": [
        "model = Sequential()"
      ],
      "execution_count": null,
      "outputs": []
    },
    {
      "cell_type": "markdown",
      "metadata": {
        "id": "49J7-kguL0lA"
      },
      "source": [
        "#First Convolutional Layer, Filter size 32 which reduces layer size to 26*26*32\n",
        "#We use ReLU activation and our input shape 28*28*1"
      ]
    },
    {
      "cell_type": "code",
      "metadata": {
        "id": "5vLcEXxiL2MX"
      },
      "source": [
        "model.add(Conv2D(32, kernel_size=(3,3), activation='relu', input_shape=input_shape))"
      ],
      "execution_count": null,
      "outputs": []
    },
    {
      "cell_type": "markdown",
      "metadata": {
        "id": "ITJUeQRKL9Nm"
      },
      "source": [
        "#Second Convolutional layer, Filter size of 64 which reduces our layer size to 24*24*64\n"
      ]
    },
    {
      "cell_type": "code",
      "metadata": {
        "id": "GWXiKRdgMA7z"
      },
      "source": [
        "model.add(Conv2D(64, (3,3), activation='relu'))"
      ],
      "execution_count": null,
      "outputs": []
    },
    {
      "cell_type": "markdown",
      "metadata": {
        "id": "dS1O2hVtMNDn"
      },
      "source": [
        "#Use maxpooling with kernel size of 2*2 reducing size to 12*12*64"
      ]
    },
    {
      "cell_type": "code",
      "metadata": {
        "id": "l_j4CgJPMN5y"
      },
      "source": [
        "model.add(MaxPooling2D(pool_size=(2,2)))"
      ],
      "execution_count": null,
      "outputs": []
    },
    {
      "cell_type": "markdown",
      "metadata": {
        "id": "nE4AhZYLMSc6"
      },
      "source": [
        "#Dropout P setting as 0.25 ro reduce overfitting"
      ]
    },
    {
      "cell_type": "code",
      "metadata": {
        "id": "piSYHaspMeDc",
        "outputId": "ed402e19-603d-4d35-a1cb-eaca0b115682",
        "colab": {
          "base_uri": "https://localhost:8080/",
          "height": 439
        }
      },
      "source": [
        "model.add(Dropout(0.25))\n",
        "#Flatten our Tensor object befor input into our dense layer\n",
        "#A flatten op on a tensor reshapes the tensor to have the shape that is \n",
        "#equal to the number of elements in the tensor\n",
        "#Our CNN goes from 12*12*64 to 9*16*1\n",
        "model.add(Flatten())\n",
        "#We use another Dropout layer\n",
        "model.add(Dropout(0.5))\n",
        "#Create a fully connected/Dense layer with an output of each class (10)\n",
        "model.add(Dense(num_classes, activation='softmax'))\n",
        "#Compileour model, creates an object that stores the model. We set the optimizer\n",
        "#to use stochastic Gradient Descent (Learning rate of 0.01)\n",
        "#We set loss function to be categorical_crossentropy as it's suitable for multiclass\n",
        "#problems. And finally the metrics ( to judge the performance of the model)\n",
        "#We use accuracy\n",
        "model.compile(loss='categorical_crossentropy', optimizer=SGD(0.01),metrics=['accuracy'])\n",
        "#The summary function can be used to display the model layers and parameters\n",
        "print(model.summary())"
      ],
      "execution_count": null,
      "outputs": [
        {
          "output_type": "stream",
          "text": [
            "Model: \"sequential_9\"\n",
            "_________________________________________________________________\n",
            "Layer (type)                 Output Shape              Param #   \n",
            "=================================================================\n",
            "conv2d_28 (Conv2D)           (None, 26, 26, 32)        320       \n",
            "_________________________________________________________________\n",
            "conv2d_29 (Conv2D)           (None, 24, 24, 64)        18496     \n",
            "_________________________________________________________________\n",
            "max_pooling2d_11 (MaxPooling (None, 12, 12, 64)        0         \n",
            "_________________________________________________________________\n",
            "dropout_16 (Dropout)         (None, 12, 12, 64)        0         \n",
            "_________________________________________________________________\n",
            "flatten_4 (Flatten)          (None, 9216)              0         \n",
            "_________________________________________________________________\n",
            "dropout_17 (Dropout)         (None, 9216)              0         \n",
            "_________________________________________________________________\n",
            "dense_11 (Dense)             (None, 10)                92170     \n",
            "=================================================================\n",
            "Total params: 110,986\n",
            "Trainable params: 110,986\n",
            "Non-trainable params: 0\n",
            "_________________________________________________________________\n",
            "None\n"
          ],
          "name": "stdout"
        }
      ]
    },
    {
      "cell_type": "markdown",
      "metadata": {
        "id": "DZwOMxZiNFks"
      },
      "source": [
        "#Train the CNN\n"
      ]
    },
    {
      "cell_type": "code",
      "metadata": {
        "id": "H9WnVPQCNO-e",
        "outputId": "41d6d614-3de6-4732-b777-4c7a20843ffe",
        "colab": {
          "base_uri": "https://localhost:8080/",
          "height": 453
        }
      },
      "source": [
        "batch_size = 32\n",
        "epochs = 10\n",
        "#Store the results for plotting later\n",
        "# in our fit function we specify our dataset (X_train, y_train)\n",
        "#batch_size (typically 16 to 128 --Depending on RAM). NUmber of epochs (10 to 100)\n",
        "#Validation dataset (X_test, y_test)\n",
        "#Verbose = 1, setting training to output performance metric every epoch\n",
        "history = model.fit(x_train, y_train, batch_size=batch_size,epochs=epochs, \n",
        "                    verbose=1, \n",
        "                    validation_data=(x_test,y_test))\n",
        "#We obtain accuracy score using the evaluative fn \n",
        "score=model.evaluate(x_test,y_test,verbose=0)\n",
        "print('Test loss: ', score[0])\n",
        "print('Test Accuracy: ', score[1])"
      ],
      "execution_count": null,
      "outputs": [
        {
          "output_type": "stream",
          "text": [
            "Epoch 1/10\n",
            " 317/1875 [====>.........................] - ETA: 2:02 - loss: 1.2664 - accuracy: 0.6144"
          ],
          "name": "stdout"
        },
        {
          "output_type": "error",
          "ename": "KeyboardInterrupt",
          "evalue": "ignored",
          "traceback": [
            "\u001b[0;31m---------------------------------------------------------------------------\u001b[0m",
            "\u001b[0;31mKeyboardInterrupt\u001b[0m                         Traceback (most recent call last)",
            "\u001b[0;32m<ipython-input-93-44368ac66c30>\u001b[0m in \u001b[0;36m<module>\u001b[0;34m()\u001b[0m\n\u001b[1;32m      8\u001b[0m history = model.fit(x_train, y_train, batch_size=batch_size,epochs=epochs, \n\u001b[1;32m      9\u001b[0m                     \u001b[0mverbose\u001b[0m\u001b[0;34m=\u001b[0m\u001b[0;36m1\u001b[0m\u001b[0;34m,\u001b[0m\u001b[0;34m\u001b[0m\u001b[0;34m\u001b[0m\u001b[0m\n\u001b[0;32m---> 10\u001b[0;31m                     validation_data=(x_test,y_test))\n\u001b[0m\u001b[1;32m     11\u001b[0m \u001b[0;31m#We obtain accuracy score using the evaluative fn\u001b[0m\u001b[0;34m\u001b[0m\u001b[0;34m\u001b[0m\u001b[0;34m\u001b[0m\u001b[0m\n\u001b[1;32m     12\u001b[0m \u001b[0mscore\u001b[0m\u001b[0;34m=\u001b[0m\u001b[0mmodel\u001b[0m\u001b[0;34m.\u001b[0m\u001b[0mevaluate\u001b[0m\u001b[0;34m(\u001b[0m\u001b[0mx_test\u001b[0m\u001b[0;34m,\u001b[0m\u001b[0my_test\u001b[0m\u001b[0;34m,\u001b[0m\u001b[0mverbose\u001b[0m\u001b[0;34m=\u001b[0m\u001b[0;36m0\u001b[0m\u001b[0;34m)\u001b[0m\u001b[0;34m\u001b[0m\u001b[0;34m\u001b[0m\u001b[0m\n",
            "\u001b[0;32m/usr/local/lib/python3.6/dist-packages/tensorflow/python/keras/engine/training.py\u001b[0m in \u001b[0;36m_method_wrapper\u001b[0;34m(self, *args, **kwargs)\u001b[0m\n\u001b[1;32m    106\u001b[0m   \u001b[0;32mdef\u001b[0m \u001b[0m_method_wrapper\u001b[0m\u001b[0;34m(\u001b[0m\u001b[0mself\u001b[0m\u001b[0;34m,\u001b[0m \u001b[0;34m*\u001b[0m\u001b[0margs\u001b[0m\u001b[0;34m,\u001b[0m \u001b[0;34m**\u001b[0m\u001b[0mkwargs\u001b[0m\u001b[0;34m)\u001b[0m\u001b[0;34m:\u001b[0m\u001b[0;34m\u001b[0m\u001b[0;34m\u001b[0m\u001b[0m\n\u001b[1;32m    107\u001b[0m     \u001b[0;32mif\u001b[0m \u001b[0;32mnot\u001b[0m \u001b[0mself\u001b[0m\u001b[0;34m.\u001b[0m\u001b[0m_in_multi_worker_mode\u001b[0m\u001b[0;34m(\u001b[0m\u001b[0;34m)\u001b[0m\u001b[0;34m:\u001b[0m  \u001b[0;31m# pylint: disable=protected-access\u001b[0m\u001b[0;34m\u001b[0m\u001b[0;34m\u001b[0m\u001b[0m\n\u001b[0;32m--> 108\u001b[0;31m       \u001b[0;32mreturn\u001b[0m \u001b[0mmethod\u001b[0m\u001b[0;34m(\u001b[0m\u001b[0mself\u001b[0m\u001b[0;34m,\u001b[0m \u001b[0;34m*\u001b[0m\u001b[0margs\u001b[0m\u001b[0;34m,\u001b[0m \u001b[0;34m**\u001b[0m\u001b[0mkwargs\u001b[0m\u001b[0;34m)\u001b[0m\u001b[0;34m\u001b[0m\u001b[0;34m\u001b[0m\u001b[0m\n\u001b[0m\u001b[1;32m    109\u001b[0m \u001b[0;34m\u001b[0m\u001b[0m\n\u001b[1;32m    110\u001b[0m     \u001b[0;31m# Running inside `run_distribute_coordinator` already.\u001b[0m\u001b[0;34m\u001b[0m\u001b[0;34m\u001b[0m\u001b[0;34m\u001b[0m\u001b[0m\n",
            "\u001b[0;32m/usr/local/lib/python3.6/dist-packages/tensorflow/python/keras/engine/training.py\u001b[0m in \u001b[0;36mfit\u001b[0;34m(self, x, y, batch_size, epochs, verbose, callbacks, validation_split, validation_data, shuffle, class_weight, sample_weight, initial_epoch, steps_per_epoch, validation_steps, validation_batch_size, validation_freq, max_queue_size, workers, use_multiprocessing)\u001b[0m\n\u001b[1;32m   1096\u001b[0m                 batch_size=batch_size):\n\u001b[1;32m   1097\u001b[0m               \u001b[0mcallbacks\u001b[0m\u001b[0;34m.\u001b[0m\u001b[0mon_train_batch_begin\u001b[0m\u001b[0;34m(\u001b[0m\u001b[0mstep\u001b[0m\u001b[0;34m)\u001b[0m\u001b[0;34m\u001b[0m\u001b[0;34m\u001b[0m\u001b[0m\n\u001b[0;32m-> 1098\u001b[0;31m               \u001b[0mtmp_logs\u001b[0m \u001b[0;34m=\u001b[0m \u001b[0mtrain_function\u001b[0m\u001b[0;34m(\u001b[0m\u001b[0miterator\u001b[0m\u001b[0;34m)\u001b[0m\u001b[0;34m\u001b[0m\u001b[0;34m\u001b[0m\u001b[0m\n\u001b[0m\u001b[1;32m   1099\u001b[0m               \u001b[0;32mif\u001b[0m \u001b[0mdata_handler\u001b[0m\u001b[0;34m.\u001b[0m\u001b[0mshould_sync\u001b[0m\u001b[0;34m:\u001b[0m\u001b[0;34m\u001b[0m\u001b[0;34m\u001b[0m\u001b[0m\n\u001b[1;32m   1100\u001b[0m                 \u001b[0mcontext\u001b[0m\u001b[0;34m.\u001b[0m\u001b[0masync_wait\u001b[0m\u001b[0;34m(\u001b[0m\u001b[0;34m)\u001b[0m\u001b[0;34m\u001b[0m\u001b[0;34m\u001b[0m\u001b[0m\n",
            "\u001b[0;32m/usr/local/lib/python3.6/dist-packages/tensorflow/python/eager/def_function.py\u001b[0m in \u001b[0;36m__call__\u001b[0;34m(self, *args, **kwds)\u001b[0m\n\u001b[1;32m    778\u001b[0m       \u001b[0;32melse\u001b[0m\u001b[0;34m:\u001b[0m\u001b[0;34m\u001b[0m\u001b[0;34m\u001b[0m\u001b[0m\n\u001b[1;32m    779\u001b[0m         \u001b[0mcompiler\u001b[0m \u001b[0;34m=\u001b[0m \u001b[0;34m\"nonXla\"\u001b[0m\u001b[0;34m\u001b[0m\u001b[0;34m\u001b[0m\u001b[0m\n\u001b[0;32m--> 780\u001b[0;31m         \u001b[0mresult\u001b[0m \u001b[0;34m=\u001b[0m \u001b[0mself\u001b[0m\u001b[0;34m.\u001b[0m\u001b[0m_call\u001b[0m\u001b[0;34m(\u001b[0m\u001b[0;34m*\u001b[0m\u001b[0margs\u001b[0m\u001b[0;34m,\u001b[0m \u001b[0;34m**\u001b[0m\u001b[0mkwds\u001b[0m\u001b[0;34m)\u001b[0m\u001b[0;34m\u001b[0m\u001b[0;34m\u001b[0m\u001b[0m\n\u001b[0m\u001b[1;32m    781\u001b[0m \u001b[0;34m\u001b[0m\u001b[0m\n\u001b[1;32m    782\u001b[0m       \u001b[0mnew_tracing_count\u001b[0m \u001b[0;34m=\u001b[0m \u001b[0mself\u001b[0m\u001b[0;34m.\u001b[0m\u001b[0m_get_tracing_count\u001b[0m\u001b[0;34m(\u001b[0m\u001b[0;34m)\u001b[0m\u001b[0;34m\u001b[0m\u001b[0;34m\u001b[0m\u001b[0m\n",
            "\u001b[0;32m/usr/local/lib/python3.6/dist-packages/tensorflow/python/eager/def_function.py\u001b[0m in \u001b[0;36m_call\u001b[0;34m(self, *args, **kwds)\u001b[0m\n\u001b[1;32m    805\u001b[0m       \u001b[0;31m# In this case we have created variables on the first call, so we run the\u001b[0m\u001b[0;34m\u001b[0m\u001b[0;34m\u001b[0m\u001b[0;34m\u001b[0m\u001b[0m\n\u001b[1;32m    806\u001b[0m       \u001b[0;31m# defunned version which is guaranteed to never create variables.\u001b[0m\u001b[0;34m\u001b[0m\u001b[0;34m\u001b[0m\u001b[0;34m\u001b[0m\u001b[0m\n\u001b[0;32m--> 807\u001b[0;31m       \u001b[0;32mreturn\u001b[0m \u001b[0mself\u001b[0m\u001b[0;34m.\u001b[0m\u001b[0m_stateless_fn\u001b[0m\u001b[0;34m(\u001b[0m\u001b[0;34m*\u001b[0m\u001b[0margs\u001b[0m\u001b[0;34m,\u001b[0m \u001b[0;34m**\u001b[0m\u001b[0mkwds\u001b[0m\u001b[0;34m)\u001b[0m  \u001b[0;31m# pylint: disable=not-callable\u001b[0m\u001b[0;34m\u001b[0m\u001b[0;34m\u001b[0m\u001b[0m\n\u001b[0m\u001b[1;32m    808\u001b[0m     \u001b[0;32melif\u001b[0m \u001b[0mself\u001b[0m\u001b[0;34m.\u001b[0m\u001b[0m_stateful_fn\u001b[0m \u001b[0;32mis\u001b[0m \u001b[0;32mnot\u001b[0m \u001b[0;32mNone\u001b[0m\u001b[0;34m:\u001b[0m\u001b[0;34m\u001b[0m\u001b[0;34m\u001b[0m\u001b[0m\n\u001b[1;32m    809\u001b[0m       \u001b[0;31m# Release the lock early so that multiple threads can perform the call\u001b[0m\u001b[0;34m\u001b[0m\u001b[0;34m\u001b[0m\u001b[0;34m\u001b[0m\u001b[0m\n",
            "\u001b[0;32m/usr/local/lib/python3.6/dist-packages/tensorflow/python/eager/function.py\u001b[0m in \u001b[0;36m__call__\u001b[0;34m(self, *args, **kwargs)\u001b[0m\n\u001b[1;32m   2827\u001b[0m     \u001b[0;32mwith\u001b[0m \u001b[0mself\u001b[0m\u001b[0;34m.\u001b[0m\u001b[0m_lock\u001b[0m\u001b[0;34m:\u001b[0m\u001b[0;34m\u001b[0m\u001b[0;34m\u001b[0m\u001b[0m\n\u001b[1;32m   2828\u001b[0m       \u001b[0mgraph_function\u001b[0m\u001b[0;34m,\u001b[0m \u001b[0margs\u001b[0m\u001b[0;34m,\u001b[0m \u001b[0mkwargs\u001b[0m \u001b[0;34m=\u001b[0m \u001b[0mself\u001b[0m\u001b[0;34m.\u001b[0m\u001b[0m_maybe_define_function\u001b[0m\u001b[0;34m(\u001b[0m\u001b[0margs\u001b[0m\u001b[0;34m,\u001b[0m \u001b[0mkwargs\u001b[0m\u001b[0;34m)\u001b[0m\u001b[0;34m\u001b[0m\u001b[0;34m\u001b[0m\u001b[0m\n\u001b[0;32m-> 2829\u001b[0;31m     \u001b[0;32mreturn\u001b[0m \u001b[0mgraph_function\u001b[0m\u001b[0;34m.\u001b[0m\u001b[0m_filtered_call\u001b[0m\u001b[0;34m(\u001b[0m\u001b[0margs\u001b[0m\u001b[0;34m,\u001b[0m \u001b[0mkwargs\u001b[0m\u001b[0;34m)\u001b[0m  \u001b[0;31m# pylint: disable=protected-access\u001b[0m\u001b[0;34m\u001b[0m\u001b[0;34m\u001b[0m\u001b[0m\n\u001b[0m\u001b[1;32m   2830\u001b[0m \u001b[0;34m\u001b[0m\u001b[0m\n\u001b[1;32m   2831\u001b[0m   \u001b[0;34m@\u001b[0m\u001b[0mproperty\u001b[0m\u001b[0;34m\u001b[0m\u001b[0;34m\u001b[0m\u001b[0m\n",
            "\u001b[0;32m/usr/local/lib/python3.6/dist-packages/tensorflow/python/eager/function.py\u001b[0m in \u001b[0;36m_filtered_call\u001b[0;34m(self, args, kwargs, cancellation_manager)\u001b[0m\n\u001b[1;32m   1846\u001b[0m                            resource_variable_ops.BaseResourceVariable))],\n\u001b[1;32m   1847\u001b[0m         \u001b[0mcaptured_inputs\u001b[0m\u001b[0;34m=\u001b[0m\u001b[0mself\u001b[0m\u001b[0;34m.\u001b[0m\u001b[0mcaptured_inputs\u001b[0m\u001b[0;34m,\u001b[0m\u001b[0;34m\u001b[0m\u001b[0;34m\u001b[0m\u001b[0m\n\u001b[0;32m-> 1848\u001b[0;31m         cancellation_manager=cancellation_manager)\n\u001b[0m\u001b[1;32m   1849\u001b[0m \u001b[0;34m\u001b[0m\u001b[0m\n\u001b[1;32m   1850\u001b[0m   \u001b[0;32mdef\u001b[0m \u001b[0m_call_flat\u001b[0m\u001b[0;34m(\u001b[0m\u001b[0mself\u001b[0m\u001b[0;34m,\u001b[0m \u001b[0margs\u001b[0m\u001b[0;34m,\u001b[0m \u001b[0mcaptured_inputs\u001b[0m\u001b[0;34m,\u001b[0m \u001b[0mcancellation_manager\u001b[0m\u001b[0;34m=\u001b[0m\u001b[0;32mNone\u001b[0m\u001b[0;34m)\u001b[0m\u001b[0;34m:\u001b[0m\u001b[0;34m\u001b[0m\u001b[0;34m\u001b[0m\u001b[0m\n",
            "\u001b[0;32m/usr/local/lib/python3.6/dist-packages/tensorflow/python/eager/function.py\u001b[0m in \u001b[0;36m_call_flat\u001b[0;34m(self, args, captured_inputs, cancellation_manager)\u001b[0m\n\u001b[1;32m   1922\u001b[0m       \u001b[0;31m# No tape is watching; skip to running the function.\u001b[0m\u001b[0;34m\u001b[0m\u001b[0;34m\u001b[0m\u001b[0;34m\u001b[0m\u001b[0m\n\u001b[1;32m   1923\u001b[0m       return self._build_call_outputs(self._inference_function.call(\n\u001b[0;32m-> 1924\u001b[0;31m           ctx, args, cancellation_manager=cancellation_manager))\n\u001b[0m\u001b[1;32m   1925\u001b[0m     forward_backward = self._select_forward_and_backward_functions(\n\u001b[1;32m   1926\u001b[0m         \u001b[0margs\u001b[0m\u001b[0;34m,\u001b[0m\u001b[0;34m\u001b[0m\u001b[0;34m\u001b[0m\u001b[0m\n",
            "\u001b[0;32m/usr/local/lib/python3.6/dist-packages/tensorflow/python/eager/function.py\u001b[0m in \u001b[0;36mcall\u001b[0;34m(self, ctx, args, cancellation_manager)\u001b[0m\n\u001b[1;32m    548\u001b[0m               \u001b[0minputs\u001b[0m\u001b[0;34m=\u001b[0m\u001b[0margs\u001b[0m\u001b[0;34m,\u001b[0m\u001b[0;34m\u001b[0m\u001b[0;34m\u001b[0m\u001b[0m\n\u001b[1;32m    549\u001b[0m               \u001b[0mattrs\u001b[0m\u001b[0;34m=\u001b[0m\u001b[0mattrs\u001b[0m\u001b[0;34m,\u001b[0m\u001b[0;34m\u001b[0m\u001b[0;34m\u001b[0m\u001b[0m\n\u001b[0;32m--> 550\u001b[0;31m               ctx=ctx)\n\u001b[0m\u001b[1;32m    551\u001b[0m         \u001b[0;32melse\u001b[0m\u001b[0;34m:\u001b[0m\u001b[0;34m\u001b[0m\u001b[0;34m\u001b[0m\u001b[0m\n\u001b[1;32m    552\u001b[0m           outputs = execute.execute_with_cancellation(\n",
            "\u001b[0;32m/usr/local/lib/python3.6/dist-packages/tensorflow/python/eager/execute.py\u001b[0m in \u001b[0;36mquick_execute\u001b[0;34m(op_name, num_outputs, inputs, attrs, ctx, name)\u001b[0m\n\u001b[1;32m     58\u001b[0m     \u001b[0mctx\u001b[0m\u001b[0;34m.\u001b[0m\u001b[0mensure_initialized\u001b[0m\u001b[0;34m(\u001b[0m\u001b[0;34m)\u001b[0m\u001b[0;34m\u001b[0m\u001b[0;34m\u001b[0m\u001b[0m\n\u001b[1;32m     59\u001b[0m     tensors = pywrap_tfe.TFE_Py_Execute(ctx._handle, device_name, op_name,\n\u001b[0;32m---> 60\u001b[0;31m                                         inputs, attrs, num_outputs)\n\u001b[0m\u001b[1;32m     61\u001b[0m   \u001b[0;32mexcept\u001b[0m \u001b[0mcore\u001b[0m\u001b[0;34m.\u001b[0m\u001b[0m_NotOkStatusException\u001b[0m \u001b[0;32mas\u001b[0m \u001b[0me\u001b[0m\u001b[0;34m:\u001b[0m\u001b[0;34m\u001b[0m\u001b[0;34m\u001b[0m\u001b[0m\n\u001b[1;32m     62\u001b[0m     \u001b[0;32mif\u001b[0m \u001b[0mname\u001b[0m \u001b[0;32mis\u001b[0m \u001b[0;32mnot\u001b[0m \u001b[0;32mNone\u001b[0m\u001b[0;34m:\u001b[0m\u001b[0;34m\u001b[0m\u001b[0;34m\u001b[0m\u001b[0m\n",
            "\u001b[0;31mKeyboardInterrupt\u001b[0m: "
          ]
        }
      ]
    },
    {
      "cell_type": "markdown",
      "metadata": {
        "id": "qE3dowi29C21"
      },
      "source": [
        "#plot loss charts"
      ]
    },
    {
      "cell_type": "code",
      "metadata": {
        "id": "Q5YLxc80uAfh",
        "outputId": "a875e24c-0cde-486e-f073-5755acd64234",
        "colab": {
          "base_uri": "https://localhost:8080/",
          "height": 35
        }
      },
      "source": [
        "from google.colab import drive\n",
        "drive.mount('/content/drive')"
      ],
      "execution_count": null,
      "outputs": [
        {
          "output_type": "stream",
          "text": [
            "Mounted at /content/drive\n"
          ],
          "name": "stdout"
        }
      ]
    },
    {
      "cell_type": "code",
      "metadata": {
        "id": "eB4cREfG9J2R"
      },
      "source": [
        "import matplotlib.pyplot as plt\n",
        "#use the history object to get our saved performance results\n",
        "history_dict = history.history\n",
        "\n",
        "#extract the loss and the validation losses\n",
        "loss_values=history_dict['loss']\n",
        "val_loss_values=history_dict['val_loss']\n",
        "\n",
        "#get the number of epochs and create an array up to that number using range()\n",
        "epochs=range(1, len(loss_values) +1)\n",
        "\n",
        "#Plot line charts for both validation and loss\n",
        "line1 = plt.plot(epochs, val_loss_values, label='Validation/Test loss')\n",
        "line2 = plt.plot(epochs, loss_values, label='Training loss')\n",
        "plt.setp(line1, linewidth=2.0, marker='+', markersize=10.0)\n",
        "plt.setp(line2, linewidth=2.0, marker='4', markersize=10.0)\n",
        "plt.xlabel('Epochs')\n",
        "plt.ylabel('Loss')\n",
        "plt.grid(True)\n",
        "plt.legend()\n",
        "plt.show()"
      ],
      "execution_count": null,
      "outputs": []
    },
    {
      "cell_type": "markdown",
      "metadata": {
        "id": "k8hK9-VJAL9X"
      },
      "source": [
        "#Plot of Accuracy"
      ]
    },
    {
      "cell_type": "markdown",
      "metadata": {
        "id": "z9uZAkPkm_Fa"
      },
      "source": [
        ""
      ]
    },
    {
      "cell_type": "code",
      "metadata": {
        "id": "hKhGXp6WAQqj"
      },
      "source": [
        "#Plotting the accuracy chart\n",
        "import matplotlib.pyplot as plt\n",
        "#Use the history object to get our svaed performace results\n",
        "from keras.callbacks import History \n",
        "history_dict=history.history\n"
      ],
      "execution_count": null,
      "outputs": []
    },
    {
      "cell_type": "markdown",
      "metadata": {
        "id": "V9r4aHidnEh8"
      },
      "source": [
        "#extract the loss and the validation losses"
      ]
    },
    {
      "cell_type": "code",
      "metadata": {
        "id": "Z2fEkQhanK2X"
      },
      "source": [
        "acc_values=history_dict['accuracy']\n",
        "val_acc_values=history_dict['val_accuracy']\n",
        "#get the number of epochs and create an array up to that number using range()\n",
        "epochs=range(1, len(acc_values) +1)\n"
      ],
      "execution_count": null,
      "outputs": []
    },
    {
      "cell_type": "markdown",
      "metadata": {
        "id": "LxtxWDL7o6vP"
      },
      "source": [
        ""
      ]
    },
    {
      "cell_type": "markdown",
      "metadata": {
        "id": "IDz0thzGo7_a"
      },
      "source": [
        "#Plot line charts for both validation and loss"
      ]
    },
    {
      "cell_type": "code",
      "metadata": {
        "id": "Dac1LuW3pICx"
      },
      "source": [
        "line1 = plt.plot(epochs, val_acc_values, label='Validation/Test Accuracy')\n",
        "line2 = plt.plot(epochs, acc_values, label='Training')\n",
        "plt.setp(line1, linewidth=2.0, marker='+', markersize=10.0)\n",
        "plt.setp(line2, linewidth=2.0, marker='4', markersize=10.0)\n",
        "plt.xlabel('Epochs')\n",
        "plt.ylabel('Loss')\n",
        "plt.grid(True)\n",
        "plt.legend()\n",
        "plt.show()\n",
        "\n"
      ],
      "execution_count": null,
      "outputs": []
    },
    {
      "cell_type": "markdown",
      "metadata": {
        "id": "-xSNEC-7pZRR"
      },
      "source": [
        "#saving the model"
      ]
    },
    {
      "cell_type": "markdown",
      "metadata": {
        "id": "JUpbx58ap1_b"
      },
      "source": [
        ""
      ]
    },
    {
      "cell_type": "code",
      "metadata": {
        "id": "l7AbS3lmp806"
      },
      "source": [
        "model.save('/content/drive/My Drive/Colab Notebooks/mnist_simple_cnn_10_Epochs.h5')\n",
        "print('model is saved')\n",
        "import numpy as np\n",
        "figure=plt.figure(figsize=(20,20))\n",
        "for i in range(5):\n",
        "  figure.add_subplot(1,5,i+1)\n",
        "  random_idx=np.random.randint(0,len(x_test))\n",
        "  plt.imshow(x_test[random_idx,:,:,0],cmap='gray')\n",
        "  plt.axis('off')\n",
        "  print(np.squeeze(np.argmax(model.predict(x_test[random_idx].reshape(1,28,28,1)), axis=1),axis=0))\n",
        "  "
      ],
      "execution_count": null,
      "outputs": []
    },
    {
      "cell_type": "markdown",
      "metadata": {
        "id": "oUo1S9gj6v9T"
      },
      "source": [
        "# Part Two\n"
      ]
    },
    {
      "cell_type": "code",
      "metadata": {
        "id": "ZBl_DNsa669Q"
      },
      "source": [
        "#reload the data and model\n",
        "from tensorflow.keras.models import load_model\n",
        "from tensorflow.keras.utils import to_categorical\n",
        "from tensorflow.keras.datasets import mnist\n",
        "\n",
        "#load the dataset\n",
        "(x_train,y_train),(x_test,y_test) = mnist.load_data()\n",
        "model = load_model('/content/drive/My Drive/Colab Notebooks/mnist_simple_cnn_10_Epochs.h5')"
      ],
      "execution_count": null,
      "outputs": []
    },
    {
      "cell_type": "markdown",
      "metadata": {
        "id": "SmxFT-Vgq0dp"
      },
      "source": [
        ""
      ]
    },
    {
      "cell_type": "code",
      "metadata": {
        "id": "TMxV2kzb8m25",
        "outputId": "173ab942-9999-46a8-8ca0-ea5b9906fd0a",
        "colab": {
          "base_uri": "https://localhost:8080/",
          "height": 35
        }
      },
      "source": [
        "#get data into right shape for keras\n",
        "#have a variable for number of rows and columns\n",
        "img_rows = x_train[0].shape[0]\n",
        "img_columns = x_train[0].shape[1]\n",
        "x_test = x_test.reshape(x_test.shape[0], img_rows, img_columns, 1) #similar to one-hot encoding\n",
        "\n",
        "#store the shape of a single image\n",
        "input_shape = (img_rows, img_columns, 1)\n",
        "\n",
        "#change image type to float32\n",
        "x_test = x_test.astype('float32')\n",
        "\n",
        "#normalize the data by changing the range\n",
        "x_test /= 255.0\n",
        "y_test = to_categorical(y_test)\n",
        "print(x_test.shape[0], 'test samples')"
      ],
      "execution_count": null,
      "outputs": [
        {
          "output_type": "stream",
          "text": [
            "10000 test samples\n"
          ],
          "name": "stdout"
        }
      ]
    },
    {
      "cell_type": "code",
      "metadata": {
        "id": "gu0wB2ZL9uow",
        "outputId": "3f1f9c1b-925d-42cd-932e-e34d38007936",
        "colab": {
          "base_uri": "https://localhost:8080/",
          "height": 588
        }
      },
      "source": [
        "#displaying the classification report\n",
        "from sklearn.metrics import classification_report, confusion_matrix\n",
        "import numpy as np\n",
        "\n",
        "y_pred = model.predict_classes(x_test)\n",
        "\n",
        "print(classification_report(np.argmax(y_test,axis=1),y_pred))\n",
        "print(confusion_matrix(np.argmax(y_test,axis=1),y_pred))\n"
      ],
      "execution_count": null,
      "outputs": [
        {
          "output_type": "stream",
          "text": [
            "WARNING:tensorflow:From <ipython-input-96-7005bb2820f5>:5: Sequential.predict_classes (from tensorflow.python.keras.engine.sequential) is deprecated and will be removed after 2021-01-01.\n",
            "Instructions for updating:\n",
            "Please use instead:* `np.argmax(model.predict(x), axis=-1)`,   if your model does multi-class classification   (e.g. if it uses a `softmax` last-layer activation).* `(model.predict(x) > 0.5).astype(\"int32\")`,   if your model does binary classification   (e.g. if it uses a `sigmoid` last-layer activation).\n",
            "              precision    recall  f1-score   support\n",
            "\n",
            "           0       0.98      0.99      0.99       980\n",
            "           1       0.99      0.99      0.99      1135\n",
            "           2       0.98      0.98      0.98      1032\n",
            "           3       0.99      0.99      0.99      1010\n",
            "           4       0.99      0.98      0.99       982\n",
            "           5       0.99      0.99      0.99       892\n",
            "           6       0.99      0.98      0.99       958\n",
            "           7       0.97      0.98      0.98      1028\n",
            "           8       0.98      0.98      0.98       974\n",
            "           9       0.99      0.97      0.98      1009\n",
            "\n",
            "    accuracy                           0.98     10000\n",
            "   macro avg       0.98      0.98      0.98     10000\n",
            "weighted avg       0.98      0.98      0.98     10000\n",
            "\n",
            "[[ 974    0    1    0    0    1    1    1    2    0]\n",
            " [   0 1128    2    1    0    1    2    0    1    0]\n",
            " [   1    3 1009    4    1    0    1    8    5    0]\n",
            " [   0    0    2 1001    0    2    0    3    2    0]\n",
            " [   1    0    1    0  965    0    3    0    3    9]\n",
            " [   2    0    0    4    0  882    2    1    1    0]\n",
            " [   6    3    0    0    1    2  943    0    3    0]\n",
            " [   1    3    8    3    0    0    0 1009    3    1]\n",
            " [   5    0    2    1    1    2    2    5  953    3]\n",
            " [   5    5    0    2    3    2    0    9    3  980]]\n"
          ],
          "name": "stdout"
        }
      ]
    },
    {
      "cell_type": "code",
      "metadata": {
        "id": "WW4cjAmaXEKT",
        "outputId": "7104de56-66c3-451c-adff-64c4e0a9eac0",
        "colab": {
          "base_uri": "https://localhost:8080/",
          "height": 72
        }
      },
      "source": [
        "import cv2\n",
        "import numpy as np\n",
        "from tensorflow.keras.datasets import mnist\n",
        "\n",
        "#load the data\n",
        "(x_train,y_train),(x_test,y_test)=mnist.load_data()\n",
        "#use numeric python to craete an array that store values of 1 when misclassification ocurs\n",
        "result=np.absolute(y_test,y_pred)\n",
        "result_indices=np.nonzero(result>0)\n",
        "\n",
        "#display the indices of the misclassification\n",
        "print('indices misclassification data are:\\n\\n'+ str(result_indices))"
      ],
      "execution_count": null,
      "outputs": [
        {
          "output_type": "stream",
          "text": [
            "indices misclassification data are:\n",
            "\n",
            "(array([   0,    1,    2, ..., 9997, 9998, 9999]),)\n"
          ],
          "name": "stdout"
        }
      ]
    },
    {
      "cell_type": "code",
      "metadata": {
        "id": "3nNX9d52JacE",
        "outputId": "5f1a7ff5-4b1e-49f1-a327-e1ad34fd9dd8",
        "colab": {
          "base_uri": "https://localhost:8080/",
          "height": 320
        }
      },
      "source": [
        "from tensorflow.keras.models import Model\n",
        "\n",
        "#extract the output of the top 7 layers-layer outputs\n",
        "layer_outputs = [layer.output for layer in model.layers[:7]]\n",
        "\n",
        "#create a model to retun those outputs given the model's input\n",
        "activation_model =Model(inputs=model.input,outputs=layer_outputs)\n",
        "\n",
        "#display the test image of the activation model\n",
        "img_tensor = x_test[151].reshape(1,28,28,1)\n",
        "figure1 = plt.figure(figsize=(5,5))\n",
        "plt.imshow(img_tensor[0,:,:,0],cmap='inferno')\n",
        "plt.axis='off'"
      ],
      "execution_count": null,
      "outputs": [
        {
          "output_type": "display_data",
          "data": {
            "image/png": "[encoded data removed]",
            "text/plain": [
              "<Figure size 360x360 with 1 Axes>"
            ]
          },
          "metadata": {
            "tags": [],
            "needs_background": "light"
          }
        }
      ]
    },
    {
      "cell_type": "code",
      "metadata": {
        "id": "fc0nirP2d1zO",
        "outputId": "321574b2-3a17-4e26-e2c6-817f375a74b3",
        "colab": {
          "base_uri": "https://localhost:8080/",
          "height": 35
        }
      },
      "source": [
        "#run the model in predict mode to get the activation layers\n",
        "#when an image is read, it returns the values of the activation\n",
        "\n",
        "activations = activation_model.predict(img_tensor)\n",
        "print(\"number of activation layers: \"+ str(len(activations)))"
      ],
      "execution_count": null,
      "outputs": [
        {
          "output_type": "stream",
          "text": [
            "number of activation layers: 7\n"
          ],
          "name": "stdout"
        }
      ]
    },
    {
      "cell_type": "code",
      "metadata": {
        "id": "QS4ePZ9ceiDV",
        "outputId": "4921b8c1-c6b6-4095-c35a-2cc9f9432e39",
        "colab": {
          "base_uri": "https://localhost:8080/",
          "height": 54
        }
      },
      "source": [
        "#activation of the first conv layer for the image input\n",
        "first_layer_activation = activations[0]\n",
        "print(first_layer_activation.shape)\n",
        "print(model.summary)"
      ],
      "execution_count": null,
      "outputs": [
        {
          "output_type": "stream",
          "text": [
            "(1, 26, 26, 32)\n",
            "<bound method Model.summary of <tensorflow.python.keras.engine.sequential.Sequential object at 0x7fb3996a1da0>>\n"
          ],
          "name": "stdout"
        }
      ]
    },
    {
      "cell_type": "markdown",
      "metadata": {
        "id": "DSfzm_sgfJe4"
      },
      "source": [
        "### Plot output of 4th conv filter in the 1st conv layer"
      ]
    },
    {
      "cell_type": "code",
      "metadata": {
        "id": "VEdDXHf_fIWZ",
        "outputId": "ddca56c3-5385-4a2b-830c-f586b114c0aa",
        "colab": {
          "base_uri": "https://localhost:8080/",
          "height": 293
        }
      },
      "source": [
        "plt.matshow(first_layer_activation[0,:,:,3],cmap = 'viridis')"
      ],
      "execution_count": null,
      "outputs": [
        {
          "output_type": "execute_result",
          "data": {
            "text/plain": [
              "<matplotlib.image.AxesImage at 0x7fb38cda7978>"
            ]
          },
          "metadata": {
            "tags": []
          },
          "execution_count": 101
        },
        {
          "output_type": "display_data",
          "data": {
            "image/png": "[encoded data removed]",
            "text/plain": [
              "<Figure size 288x288 with 1 Axes>"
            ]
          },
          "metadata": {
            "tags": [],
            "needs_background": "light"
          }
        }
      ]
    },
    {
      "cell_type": "code",
      "metadata": {
        "id": "5NJTSLyogBP1",
        "outputId": "2ecd21e1-948a-43c5-b967-1487d1087125",
        "colab": {
          "base_uri": "https://localhost:8080/",
          "height": 621
        }
      },
      "source": [
        "#create a function to display the actiavrtion of a specific layer the behaviour of how the model makes a decision\n",
        "\n",
        "def display_activations(activations,col_size,row_size,act_index):\n",
        "  activation = activations[act_index]\n",
        "  activation_index = 0\n",
        "  fig,ax = plt.subplots(row_size, col_size, figsize=(row_size*2.5,col_size*1.5))\n",
        "  for row in range(0,row_size):\n",
        "    for col in range(0,col_size):\n",
        "      ax[row][col].imshow(activation[0,:,:,activation_index],cmap = 'viridis')\n",
        "      activation_index += 1\n",
        "\n",
        "\n",
        "display_activations(activations,8,4,1)"
      ],
      "execution_count": null,
      "outputs": [
        {
          "output_type": "display_data",
          "data": {
            "image/png": "[encoded data removed]",
            "text/plain": [
              "<Figure size 720x864 with 32 Axes>"
            ]
          },
          "metadata": {
            "tags": [],
            "needs_background": "light"
          }
        }
      ]
    },
    {
      "cell_type": "markdown",
      "metadata": {
        "id": "I0qqcGQvhuK2"
      },
      "source": [
        "## Part Two: Assignment"
      ]
    },
    {
      "cell_type": "code",
      "metadata": {
        "id": "pEUOZ0g60UTe"
      },
      "source": [
        "from google.colab import drive\n",
        "drive.mount('/content/drive')"
      ],
      "execution_count": null,
      "outputs": []
    },
    {
      "cell_type": "code",
      "metadata": {
        "id": "nwZdafbnWFVF",
        "outputId": "b4eb626a-821d-474e-f225-06f61125c46f",
        "colab": {
          "base_uri": "https://localhost:8080/",
          "height": 586
        }
      },
      "source": [
        "import os\n",
        "import imageio\n",
        "import numpy as np\n",
        "from matplotlib import pyplot as plt\n",
        "\n",
        "# load the model\n",
        "from keras.models import load_model\n",
        "model = load_model(\"/content/drive/My Drive/Colab Notebooks/mnist_simple_cnn_10_Epochs.h5\")\n",
        "\n",
        "path = \"/content/drive/My Drive/Colab Notebooks/Handwritten_Digits_Dataset/\"\n",
        "\n",
        "\n",
        "\n",
        "files = os.listdir(path)\n",
        "\n",
        "im_files = []\n",
        "\n",
        "\n",
        "for file in files:\n",
        "  filename = os.path.basename(file)\n",
        "  full_name = path + filename\n",
        "  im_files.append(full_name)\n",
        "\n",
        "\n",
        "\n",
        "\n",
        "#filenames.sort() # now you have the filenames and can do something with them\n",
        "print(\"Number of images in dataset:  \" + str(len(im_files)))\n",
        "\n",
        "for im in im_files:\n",
        "  im = imageio.imread(im)\n",
        "  gray = np.dot(im[...,:3], [0.299, 0.587, 0.114])\n",
        "  # reshape the image\n",
        "  gray = gray.reshape(1, img_rows, img_cols, 1)\n",
        "\n",
        "  # normalize image\n",
        "  gray /= 255\n",
        "\n",
        "\n",
        "  # predict digit\n",
        "  prediction = model.predict(gray)\n",
        "  print(prediction.argmax())\n",
        "\n"
      ],
      "execution_count": null,
      "outputs": [
        {
          "output_type": "stream",
          "text": [
            "Number of images in dataset:  30\n",
            "8\n",
            "9\n",
            "8\n",
            "9\n",
            "3\n",
            "9\n",
            "9\n",
            "9\n",
            "9\n",
            "8\n",
            "9\n",
            "9\n",
            "9\n",
            "8\n",
            "9\n",
            "9\n",
            "9\n",
            "9\n",
            "9\n",
            "9\n",
            "8\n",
            "9\n",
            "9\n",
            "9\n",
            "9\n",
            "9\n",
            "9\n",
            "9\n",
            "8\n",
            "8\n"
          ],
          "name": "stdout"
        }
      ]
    },
    {
      "cell_type": "code",
      "metadata": {
        "id": "OXzJE3yaPqxw"
      },
      "source": [
        ""
      ],
      "execution_count": null,
      "outputs": []
    },
    {
      "cell_type": "code",
      "metadata": {
        "id": "RfMhLg5PPoyI"
      },
      "source": [
        ""
      ],
      "execution_count": null,
      "outputs": []
    },
    {
      "cell_type": "code",
      "metadata": {
        "id": "u032omuXT1Yp"
      },
      "source": [
        ""
      ],
      "execution_count": null,
      "outputs": []
    },
    {
      "cell_type": "code",
      "metadata": {
        "id": "DG7uAp3vT2HE"
      },
      "source": [
        ""
      ],
      "execution_count": null,
      "outputs": []
    },
    {
      "cell_type": "markdown",
      "metadata": {
        "id": "NhvNwXwegc2o"
      },
      "source": [
        "# Part 3: Transfer of Learning"
      ]
    },
    {
      "cell_type": "markdown",
      "metadata": {
        "id": "bRldVn8Lmn4s"
      },
      "source": [
        "[10:10 AM] Lawrence B Nderu\n",
        "    \n",
        "\n",
        "**Workflow**\n",
        " \n",
        "1. Load the CIFAR10 dataset (keras datasets) and train a Deeper CNN with various configulations.\n",
        " \n",
        "2. Train this CNN for 10 Epochs or more using a Batch Size of 32 (batch size does not matter signigicantly as this deepend on the size of the RAM)\n",
        " - Examine the performance metrics of the trained CNN. The accuracy after 10 Epochs should be between 60 and 65% on the test data. How can we perform better on this.\n",
        "3.See what our CNN is capable of by testing the model on some of the Test images used in part 1. How would you compare this it classification performance to a human (assume)\n",
        "4. The model created could be disappoiting, we then use the Transfer learning to significantly improve it.  (Load the weights of a pre-trained CNN such as VGG16) - to import that model: from tensorflow.keras.applications import vgg16 as vgg.\n",
        "5. Do not include the top layer when loading,, we are using this model to apply the concept of Transfer Learning - the function *vgg.VGG16(weights='imagenet', include_top=False, input_shape=(48,48,3)) *\n",
        "6. Extract the last layer from the third block of the VGG16 model. We wil be using the VGG model upto *block3_pool *\n",
        " \n",
        "7. Add the classification layers for the CIFAR10 classed on top of it.\n",
        " \n",
        "8. Freeze all layers in the pretrained VGG16 model since will be reusing them and compile merged model. Iterate through our base_model.layers and set the trainable parameter to be false by using layer.trainable=False\n",
        "9. Keras data generator loading the image data. \n",
        "10. Train the model for at least 5 (10 is the best) Epochs and note the improvement\n",
        "11. Visualize the filters of the pre-trained VGG16 model - Reload the VGG16 model, Extract the conv layers since we want the filters and the biased values of these. Will inspect the bias and weights using third Conv layer using get_weights().  == a good idea of what filters and biases are.\n",
        " \n",
        "12. Plot the first 6 conv filters- First normalixe the filter values (0-1) --get filters using f=filters[:,:,:,i]. Plot and visualixe it using plt.imshow(f[f:,:,:,j], cmap='gray')\n",
        "13. Visualixe the features map of the VGG16 by running an input image (Create your own) through the model. -- redefine the model to output right after the first hidden layer using model=Model(input=model.input,outputs=model.layers[1].output.\n",
        "using the inbuilt keras preprocessing functions load_img and img_to_img along the numpy's expand_dims and keras VGG16 funtion from tensorflow.keras.applictions.vgg16 import preprocess_input \n",
        "14. plot these features map for the output of the 5 Convolution Blocks indexed as [2,5,9,13,17]"
      ]
    },
    {
      "cell_type": "markdown",
      "metadata": {
        "id": "AcbHj0YrqYlA"
      },
      "source": [
        "# Training a model for CIFAR10 Using Deeper CNN"
      ]
    },
    {
      "cell_type": "code",
      "metadata": {
        "id": "AZMVYCE9gkGN"
      },
      "source": [
        "from  __future__ import print_function\n",
        "from tensorflow.keras.datasets import cifar10\n",
        "from tensorflow.keras.preprocessing.image import ImageDataGenerator\n",
        "from tensorflow.keras.models import Sequential\n",
        "from tensorflow.keras.layers import Dense,Dropout, Activation,Flatten\n",
        "from tensorflow.keras.layers import Conv2D, MaxPooling2D\n",
        "from tensorflow.keras.models import load_model\n",
        "from tensorflow.keras.utils import to_categorical\n",
        "from tensorflow.keras.optimizers import SGD\n",
        "import os"
      ],
      "execution_count": null,
      "outputs": []
    },
    {
      "cell_type": "code",
      "metadata": {
        "id": "MhztLKfar9yR"
      },
      "source": [
        "batch_size = 32\n",
        "num_classes = 10\n",
        "epochs = 10"
      ],
      "execution_count": null,
      "outputs": []
    },
    {
      "cell_type": "code",
      "metadata": {
        "id": "V0tuvbQYsELO"
      },
      "source": [
        "#load the CIFAR10\n",
        "(x_train,y_train),(x_test,y_test)=cifar10.load_data()"
      ],
      "execution_count": null,
      "outputs": []
    },
    {
      "cell_type": "code",
      "metadata": {
        "id": "ap23S5J4sc0u",
        "outputId": "916146b3-fbac-427b-be9d-b73f24388e5c",
        "colab": {
          "base_uri": "https://localhost:8080/",
          "height": 72
        }
      },
      "source": [
        "#display image data shape/dim\n",
        "print('x_train shape',x_train.shape)\n",
        "print(x_train.shape[0],'train samples')\n",
        "print(x_test.shape[0],'test samples')"
      ],
      "execution_count": null,
      "outputs": [
        {
          "output_type": "stream",
          "text": [
            "x_train shape (50000, 32, 32, 3)\n",
            "50000 train samples\n",
            "10000 test samples\n"
          ],
          "name": "stdout"
        }
      ]
    },
    {
      "cell_type": "code",
      "metadata": {
        "id": "BCmWeSims8je"
      },
      "source": [
        "#format the training data by normalizing and changing datya type\n",
        "x_train=x_train.astype('float32')\n",
        "x_test=x_test.astype('float32')\n",
        "x_train /=255.0\n",
        "x_test /=255.0"
      ],
      "execution_count": null,
      "outputs": []
    },
    {
      "cell_type": "code",
      "metadata": {
        "id": "Kppar-ZZtZ6K"
      },
      "source": [
        "#hot encioding\n",
        "y_train=to_categorical(y_train,num_classes)\n",
        "y_test=to_categorical(y_test,num_classes)"
      ],
      "execution_count": null,
      "outputs": []
    },
    {
      "cell_type": "code",
      "metadata": {
        "id": "5g6WBn1htpz1",
        "outputId": "3789143c-946a-4e7e-b041-9f850fda6c23",
        "colab": {
          "base_uri": "https://localhost:8080/",
          "height": 844
        }
      },
      "source": [
        "model=Sequential()\n",
        "#Padding = 'same' results in padding the input such that\n",
        "#the output has the same length as the original input\n",
        "model.add(Conv2D(32,(3,3),padding='same',input_shape=x_train.shape[1:]))\n",
        "model.add(Activation('relu'))\n",
        "model.add(Conv2D(32,(3,3)))\n",
        "model.add(Activation('relu'))\n",
        "model.add(MaxPooling2D(pool_size=(2,2)))\n",
        "model.add(Dropout(0.25))\n",
        " \n",
        "model.add(Conv2D(64,(3,3),padding='same'))\n",
        "model.add(Activation('relu'))\n",
        "model.add(Conv2D(64,(3,3)))\n",
        "model.add(Activation('relu'))\n",
        "model.add(MaxPooling2D(pool_size=(2,2)))\n",
        "model.add(Dropout(0.25))\n",
        " \n",
        "model.add(Flatten())\n",
        "model.add(Dense(512))\n",
        "model.add(Activation('relu'))\n",
        "model.add(Dropout(0.5))\n",
        "model.add(Dense(num_classes))\n",
        "model.add(Activation('softmax'))\n",
        " \n",
        "#model build\n",
        "model.compile(loss='categorical_crossentropy',optimizer=SGD(0.01),metrics=['accuracy'])\n",
        "print(model.summary())"
      ],
      "execution_count": null,
      "outputs": [
        {
          "output_type": "stream",
          "text": [
            "Model: \"sequential\"\n",
            "_________________________________________________________________\n",
            "Layer (type)                 Output Shape              Param #   \n",
            "=================================================================\n",
            "conv2d (Conv2D)              (None, 32, 32, 32)        896       \n",
            "_________________________________________________________________\n",
            "activation (Activation)      (None, 32, 32, 32)        0         \n",
            "_________________________________________________________________\n",
            "conv2d_1 (Conv2D)            (None, 30, 30, 32)        9248      \n",
            "_________________________________________________________________\n",
            "activation_1 (Activation)    (None, 30, 30, 32)        0         \n",
            "_________________________________________________________________\n",
            "max_pooling2d (MaxPooling2D) (None, 15, 15, 32)        0         \n",
            "_________________________________________________________________\n",
            "dropout (Dropout)            (None, 15, 15, 32)        0         \n",
            "_________________________________________________________________\n",
            "conv2d_2 (Conv2D)            (None, 15, 15, 64)        18496     \n",
            "_________________________________________________________________\n",
            "activation_2 (Activation)    (None, 15, 15, 64)        0         \n",
            "_________________________________________________________________\n",
            "conv2d_3 (Conv2D)            (None, 13, 13, 64)        36928     \n",
            "_________________________________________________________________\n",
            "activation_3 (Activation)    (None, 13, 13, 64)        0         \n",
            "_________________________________________________________________\n",
            "max_pooling2d_1 (MaxPooling2 (None, 6, 6, 64)          0         \n",
            "_________________________________________________________________\n",
            "dropout_1 (Dropout)          (None, 6, 6, 64)          0         \n",
            "_________________________________________________________________\n",
            "flatten (Flatten)            (None, 2304)              0         \n",
            "_________________________________________________________________\n",
            "dense (Dense)                (None, 512)               1180160   \n",
            "_________________________________________________________________\n",
            "activation_4 (Activation)    (None, 512)               0         \n",
            "_________________________________________________________________\n",
            "dropout_2 (Dropout)          (None, 512)               0         \n",
            "_________________________________________________________________\n",
            "dense_1 (Dense)              (None, 10)                5130      \n",
            "_________________________________________________________________\n",
            "activation_5 (Activation)    (None, 10)                0         \n",
            "=================================================================\n",
            "Total params: 1,250,858\n",
            "Trainable params: 1,250,858\n",
            "Non-trainable params: 0\n",
            "_________________________________________________________________\n",
            "None\n"
          ],
          "name": "stdout"
        }
      ]
    },
    {
      "cell_type": "markdown",
      "metadata": {
        "id": "5xMoU8EpwkRe"
      },
      "source": [
        "#Training "
      ]
    },
    {
      "cell_type": "code",
      "metadata": {
        "id": "Nqvebtq-uJ4M"
      },
      "source": [
        "history=model.fit(x_train,y_train,batch_size=batch_size,epochs=epochs,validation_data=(x_test,y_test),shuffle=True,verbose=1)\n",
        "\n"
      ],
      "execution_count": null,
      "outputs": []
    },
    {
      "cell_type": "code",
      "metadata": {
        "id": "sNOIkuGe-vqC"
      },
      "source": [
        "model.save('/content/drive/My Drive/Colab Notebooks/cifar_simple_cnn_2.h5')"
      ],
      "execution_count": null,
      "outputs": []
    },
    {
      "cell_type": "code",
      "metadata": {
        "id": "E1odY_OLn10B",
        "outputId": "5b01d55c-13a3-418d-d12a-ef86ca453620",
        "colab": {
          "base_uri": "https://localhost:8080/",
          "height": 55
        }
      },
      "source": [
        "from google.colab import drive\n",
        "drive.mount('/content/drive')"
      ],
      "execution_count": null,
      "outputs": [
        {
          "output_type": "stream",
          "text": [
            "Drive already mounted at /content/drive; to attempt to forcibly remount, call drive.mount(\"/content/drive\", force_remount=True).\n"
          ],
          "name": "stdout"
        }
      ]
    },
    {
      "cell_type": "code",
      "metadata": {
        "id": "NN5HiRBXm13m"
      },
      "source": [
        "from keras.models import load_model\n",
        "model = load_model(\"/content/drive/My Drive/Colab Notebooks/cifar_simple_cnn_2.h5\")"
      ],
      "execution_count": null,
      "outputs": []
    },
    {
      "cell_type": "code",
      "metadata": {
        "id": "jPAlcGCF7aXY",
        "outputId": "04874536-59df-4f48-f6ca-549a9fa54ef4",
        "colab": {
          "base_uri": "https://localhost:8080/",
          "height": 72
        }
      },
      "source": [
        "#evaluate the pperfromance of moidel\n",
        "score=model.evaluate(x_test,y_test,verbose=1)\n",
        "print('Test loss:  ',score[0])\n",
        "print('Test accuracy: ',score[1])"
      ],
      "execution_count": null,
      "outputs": [
        {
          "output_type": "stream",
          "text": [
            "313/313 [==============================] - 11s 35ms/step - loss: 1.0760 - accuracy: 0.6178\n",
            "Test loss:   1.0760176181793213\n",
            "Test accuracy:  0.6177999973297119\n"
          ],
          "name": "stdout"
        }
      ]
    },
    {
      "cell_type": "code",
      "metadata": {
        "id": "tBSWd5l28EYy"
      },
      "source": [
        "#create a function to get class labesl\n",
        "def getName(label,class_labels):\n",
        "  return class_labels.get(int(label))"
      ],
      "execution_count": null,
      "outputs": []
    },
    {
      "cell_type": "code",
      "metadata": {
        "id": "OSteK-VE8RlL"
      },
      "source": [
        "import numpy as np\n",
        "import matplotlib.pyplot as plt\n",
        "import cv2\n",
        "class_labels={0:'aeroplane',1:'automobile',2:'bird',3:'cat',4:'deer',5:'dog',6:'frog',7:'horse',8:'ship',9:'truck'}"
      ],
      "execution_count": null,
      "outputs": []
    },
    {
      "cell_type": "code",
      "metadata": {
        "id": "l2RY2rTI89FA",
        "outputId": "3b4905f8-fbb8-41d5-f212-b210729b3529",
        "colab": {
          "base_uri": "https://localhost:8080/",
          "height": 204
        }
      },
      "source": [
        "figure=plt.figure(figsize=(20,20))\n",
        "for i in range(5):\n",
        "  figure.add_subplot(1,5,i+1)\n",
        "  random_idx=np.random.randint(0,len(x_test))\n",
        "  plt.imshow(x_test[random_idx])\n",
        "  plt.axis('off')\n",
        "  label=np.squeeze(np.argmax(model.predict(x_test[random_idx].reshape(1,32,32,3)),axis=1))\n",
        "  print(getName(label,class_labels), end ='\\t')"
      ],
      "execution_count": null,
      "outputs": [
        {
          "output_type": "stream",
          "text": [
            "cat\taeroplane\ttruck\tcat\tcat\t"
          ],
          "name": "stdout"
        },
        {
          "output_type": "display_data",
          "data": {
            "image/png": "[encoded data removed]",
            "text/plain": [
              "<Figure size 1440x1440 with 5 Axes>"
            ]
          },
          "metadata": {
            "tags": [],
            "needs_background": "light"
          }
        }
      ]
    },
    {
      "cell_type": "markdown",
      "metadata": {
        "id": "iNNttguy_S-C"
      },
      "source": [
        "# Transfer of learning"
      ]
    },
    {
      "cell_type": "code",
      "metadata": {
        "id": "h2PxSGIA_YSN"
      },
      "source": [
        "#perform the imports\n",
        "import tensorflow as tf\n",
        "from tensorflow.keras import callbacks\n",
        "from tensorflow.keras import optimizers\n",
        "from tensorflow.keras.datasets import cifar10\n",
        "from tensorflow.keras.applications import vgg16 as vgg16\n",
        "from tensorflow.keras.layers import Dropout,Flatten,Dense,GlobalAveragePooling2D,BatchNormalization\n",
        "from tensorflow.keras.preprocessing.image import ImageDataGenerator\n",
        "\n",
        "#define some params\n",
        "BATCH_SIZE=32\n",
        "EPOCHS=5\n",
        "NUM_CLASSES=10\n",
        "LEARNING_RATE=1e-4\n",
        "MOMENTUM=0.9\n",
        "\n",
        "#import scipy to resize images\n",
        "import scipy.misc\n",
        "(x_train,y_train),(x_test,y_test)=cifar10.load_data()\n",
        "x_train=np.array([cv2.resize(x,(48,48),interpolation=cv2.INTER_AREA) for x in x_train])\n",
        "x_test=np.array([cv2.resize(x,(48,48),interpolation=cv2.INTER_AREA) for x in x_test])"
      ],
      "execution_count": null,
      "outputs": []
    },
    {
      "cell_type": "code",
      "metadata": {
        "id": "WAYdfMzqI6DX"
      },
      "source": [
        "#perform hot one ecoding\n",
        "from tensorflow.keras.utils import to_categorical\n",
        "y_train = to_categorical(y_train,NUM_CLASSES)\n",
        "y_test= to_categorical(y_test,NUM_CLASSES)"
      ],
      "execution_count": null,
      "outputs": []
    },
    {
      "cell_type": "code",
      "metadata": {
        "id": "TNwLBhWZJT6n"
      },
      "source": [
        ""
      ],
      "execution_count": null,
      "outputs": []
    },
    {
      "cell_type": "markdown",
      "metadata": {
        "id": "5ghLfwvEJUod"
      },
      "source": [
        "# Import the pre-trained model VGG16, but without the 'HEAD' layer"
      ]
    },
    {
      "cell_type": "code",
      "metadata": {
        "id": "A3hyf5-vJg6H"
      },
      "source": [
        "from tensorflow.keras.applications import vgg16 as vgg\n",
        "base_model=vgg.VGG16(weights='imagenet',include_top=False,input_shape=(48,48,3))"
      ],
      "execution_count": null,
      "outputs": []
    },
    {
      "cell_type": "code",
      "metadata": {
        "id": "wzFh6aV6J5dV"
      },
      "source": [
        ""
      ],
      "execution_count": null,
      "outputs": []
    },
    {
      "cell_type": "markdown",
      "metadata": {
        "id": "EDkg1Xw4J6i2"
      },
      "source": [
        "# Extract the last layer from the third block of the vgg16 model"
      ]
    },
    {
      "cell_type": "code",
      "metadata": {
        "id": "dU5UbmevKGEs"
      },
      "source": [
        "last=base_model.get_layer('block3_pool').output"
      ],
      "execution_count": null,
      "outputs": []
    },
    {
      "cell_type": "code",
      "metadata": {
        "id": "GfQuQMr-KSt6",
        "outputId": "51e9b769-893f-4e9c-f896-195d2bac42d0",
        "colab": {
          "base_uri": "https://localhost:8080/",
          "height": 35
        }
      },
      "source": [
        "last"
      ],
      "execution_count": null,
      "outputs": [
        {
          "output_type": "execute_result",
          "data": {
            "text/plain": [
              "<tf.Tensor 'block3_pool/MaxPool_2:0' shape=(None, 6, 6, 256) dtype=float32>"
            ]
          },
          "metadata": {
            "tags": []
          },
          "execution_count": 51
        }
      ]
    },
    {
      "cell_type": "markdown",
      "metadata": {
        "id": "LgLd0pSEKYep"
      },
      "source": [
        "# Add classification layers on top of it"
      ]
    },
    {
      "cell_type": "code",
      "metadata": {
        "id": "wrHzqFHKKRt4",
        "outputId": "80517d42-90b8-43af-dd53-cb26afbab62c",
        "colab": {
          "base_uri": "https://localhost:8080/",
          "height": 437
        }
      },
      "source": [
        "#x is our model that we're puttting -on top part of our pre-trained model\n",
        "x=GlobalAveragePooling2D()(last)\n",
        "x=BatchNormalization()(x)\n",
        "x=Dense(256, activation='relu')(x)\n",
        "x=Dense(256, activation='relu')(x)\n",
        "x=Dropout(0.5)(x)\n",
        "\n",
        "#we make our top model\n",
        "number_of_classes=10\n",
        "top=Dense(number_of_classes,activation='softmax')(x)\n",
        "#construct\n",
        "model=model(base_model.input,top)"
      ],
      "execution_count": null,
      "outputs": [
        {
          "output_type": "stream",
          "text": [
            "WARNING:tensorflow:Model was constructed with shape (None, 32, 32, 3) for input Tensor(\"conv2d_37_input_1:0\", shape=(None, 32, 32, 3), dtype=float32), but it was called on an input with incompatible shape (None, 48, 48, 3).\n"
          ],
          "name": "stdout"
        },
        {
          "output_type": "error",
          "ename": "ValueError",
          "evalue": "ignored",
          "traceback": [
            "\u001b[0;31m---------------------------------------------------------------------------\u001b[0m",
            "\u001b[0;31mValueError\u001b[0m                                Traceback (most recent call last)",
            "\u001b[0;32m<ipython-input-53-68608963523b>\u001b[0m in \u001b[0;36m<module>\u001b[0;34m()\u001b[0m\n\u001b[1;32m     10\u001b[0m \u001b[0mtop\u001b[0m\u001b[0;34m=\u001b[0m\u001b[0mDense\u001b[0m\u001b[0;34m(\u001b[0m\u001b[0mnumber_of_classes\u001b[0m\u001b[0;34m,\u001b[0m\u001b[0mactivation\u001b[0m\u001b[0;34m=\u001b[0m\u001b[0;34m'softmax'\u001b[0m\u001b[0;34m)\u001b[0m\u001b[0;34m(\u001b[0m\u001b[0mx\u001b[0m\u001b[0;34m)\u001b[0m\u001b[0;34m\u001b[0m\u001b[0;34m\u001b[0m\u001b[0m\n\u001b[1;32m     11\u001b[0m \u001b[0;31m#construct\u001b[0m\u001b[0;34m\u001b[0m\u001b[0;34m\u001b[0m\u001b[0;34m\u001b[0m\u001b[0m\n\u001b[0;32m---> 12\u001b[0;31m \u001b[0mmodel\u001b[0m\u001b[0;34m=\u001b[0m\u001b[0mmodel\u001b[0m\u001b[0;34m(\u001b[0m\u001b[0mbase_model\u001b[0m\u001b[0;34m.\u001b[0m\u001b[0minput\u001b[0m\u001b[0;34m,\u001b[0m\u001b[0mtop\u001b[0m\u001b[0;34m)\u001b[0m\u001b[0;34m\u001b[0m\u001b[0;34m\u001b[0m\u001b[0m\n\u001b[0m",
            "\u001b[0;32m/usr/local/lib/python3.6/dist-packages/tensorflow/python/keras/engine/base_layer.py\u001b[0m in \u001b[0;36m__call__\u001b[0;34m(self, *args, **kwargs)\u001b[0m\n\u001b[1;32m    924\u001b[0m     \u001b[0;32mif\u001b[0m \u001b[0m_in_functional_construction_mode\u001b[0m\u001b[0;34m(\u001b[0m\u001b[0mself\u001b[0m\u001b[0;34m,\u001b[0m \u001b[0minputs\u001b[0m\u001b[0;34m,\u001b[0m \u001b[0margs\u001b[0m\u001b[0;34m,\u001b[0m \u001b[0mkwargs\u001b[0m\u001b[0;34m,\u001b[0m \u001b[0minput_list\u001b[0m\u001b[0;34m)\u001b[0m\u001b[0;34m:\u001b[0m\u001b[0;34m\u001b[0m\u001b[0;34m\u001b[0m\u001b[0m\n\u001b[1;32m    925\u001b[0m       return self._functional_construction_call(inputs, args, kwargs,\n\u001b[0;32m--> 926\u001b[0;31m                                                 input_list)\n\u001b[0m\u001b[1;32m    927\u001b[0m \u001b[0;34m\u001b[0m\u001b[0m\n\u001b[1;32m    928\u001b[0m     \u001b[0;31m# Maintains info about the `Layer.call` stack.\u001b[0m\u001b[0;34m\u001b[0m\u001b[0;34m\u001b[0m\u001b[0;34m\u001b[0m\u001b[0m\n",
            "\u001b[0;32m/usr/local/lib/python3.6/dist-packages/tensorflow/python/keras/engine/base_layer.py\u001b[0m in \u001b[0;36m_functional_construction_call\u001b[0;34m(self, inputs, args, kwargs, input_list)\u001b[0m\n\u001b[1;32m   1115\u001b[0m           \u001b[0;32mtry\u001b[0m\u001b[0;34m:\u001b[0m\u001b[0;34m\u001b[0m\u001b[0;34m\u001b[0m\u001b[0m\n\u001b[1;32m   1116\u001b[0m             \u001b[0;32mwith\u001b[0m \u001b[0mops\u001b[0m\u001b[0;34m.\u001b[0m\u001b[0menable_auto_cast_variables\u001b[0m\u001b[0;34m(\u001b[0m\u001b[0mself\u001b[0m\u001b[0;34m.\u001b[0m\u001b[0m_compute_dtype_object\u001b[0m\u001b[0;34m)\u001b[0m\u001b[0;34m:\u001b[0m\u001b[0;34m\u001b[0m\u001b[0;34m\u001b[0m\u001b[0m\n\u001b[0;32m-> 1117\u001b[0;31m               \u001b[0moutputs\u001b[0m \u001b[0;34m=\u001b[0m \u001b[0mcall_fn\u001b[0m\u001b[0;34m(\u001b[0m\u001b[0mcast_inputs\u001b[0m\u001b[0;34m,\u001b[0m \u001b[0;34m*\u001b[0m\u001b[0margs\u001b[0m\u001b[0;34m,\u001b[0m \u001b[0;34m**\u001b[0m\u001b[0mkwargs\u001b[0m\u001b[0;34m)\u001b[0m\u001b[0;34m\u001b[0m\u001b[0;34m\u001b[0m\u001b[0m\n\u001b[0m\u001b[1;32m   1118\u001b[0m \u001b[0;34m\u001b[0m\u001b[0m\n\u001b[1;32m   1119\u001b[0m           \u001b[0;32mexcept\u001b[0m \u001b[0merrors\u001b[0m\u001b[0;34m.\u001b[0m\u001b[0mOperatorNotAllowedInGraphError\u001b[0m \u001b[0;32mas\u001b[0m \u001b[0me\u001b[0m\u001b[0;34m:\u001b[0m\u001b[0;34m\u001b[0m\u001b[0;34m\u001b[0m\u001b[0m\n",
            "\u001b[0;32m/usr/local/lib/python3.6/dist-packages/tensorflow/python/keras/engine/sequential.py\u001b[0m in \u001b[0;36mcall\u001b[0;34m(self, inputs, training, mask)\u001b[0m\n\u001b[1;32m    370\u001b[0m       \u001b[0;32mif\u001b[0m \u001b[0;32mnot\u001b[0m \u001b[0mself\u001b[0m\u001b[0;34m.\u001b[0m\u001b[0mbuilt\u001b[0m\u001b[0;34m:\u001b[0m\u001b[0;34m\u001b[0m\u001b[0;34m\u001b[0m\u001b[0m\n\u001b[1;32m    371\u001b[0m         \u001b[0mself\u001b[0m\u001b[0;34m.\u001b[0m\u001b[0m_init_graph_network\u001b[0m\u001b[0;34m(\u001b[0m\u001b[0mself\u001b[0m\u001b[0;34m.\u001b[0m\u001b[0minputs\u001b[0m\u001b[0;34m,\u001b[0m \u001b[0mself\u001b[0m\u001b[0;34m.\u001b[0m\u001b[0moutputs\u001b[0m\u001b[0;34m)\u001b[0m\u001b[0;34m\u001b[0m\u001b[0;34m\u001b[0m\u001b[0m\n\u001b[0;32m--> 372\u001b[0;31m       \u001b[0;32mreturn\u001b[0m \u001b[0msuper\u001b[0m\u001b[0;34m(\u001b[0m\u001b[0mSequential\u001b[0m\u001b[0;34m,\u001b[0m \u001b[0mself\u001b[0m\u001b[0;34m)\u001b[0m\u001b[0;34m.\u001b[0m\u001b[0mcall\u001b[0m\u001b[0;34m(\u001b[0m\u001b[0minputs\u001b[0m\u001b[0;34m,\u001b[0m \u001b[0mtraining\u001b[0m\u001b[0;34m=\u001b[0m\u001b[0mtraining\u001b[0m\u001b[0;34m,\u001b[0m \u001b[0mmask\u001b[0m\u001b[0;34m=\u001b[0m\u001b[0mmask\u001b[0m\u001b[0;34m)\u001b[0m\u001b[0;34m\u001b[0m\u001b[0;34m\u001b[0m\u001b[0m\n\u001b[0m\u001b[1;32m    373\u001b[0m \u001b[0;34m\u001b[0m\u001b[0m\n\u001b[1;32m    374\u001b[0m     \u001b[0moutputs\u001b[0m \u001b[0;34m=\u001b[0m \u001b[0minputs\u001b[0m  \u001b[0;31m# handle the corner case where self.layers is empty\u001b[0m\u001b[0;34m\u001b[0m\u001b[0;34m\u001b[0m\u001b[0m\n",
            "\u001b[0;32m/usr/local/lib/python3.6/dist-packages/tensorflow/python/keras/engine/functional.py\u001b[0m in \u001b[0;36mcall\u001b[0;34m(self, inputs, training, mask)\u001b[0m\n\u001b[1;32m    384\u001b[0m     \"\"\"\n\u001b[1;32m    385\u001b[0m     return self._run_internal_graph(\n\u001b[0;32m--> 386\u001b[0;31m         inputs, training=training, mask=mask)\n\u001b[0m\u001b[1;32m    387\u001b[0m \u001b[0;34m\u001b[0m\u001b[0m\n\u001b[1;32m    388\u001b[0m   \u001b[0;32mdef\u001b[0m \u001b[0mcompute_output_shape\u001b[0m\u001b[0;34m(\u001b[0m\u001b[0mself\u001b[0m\u001b[0;34m,\u001b[0m \u001b[0minput_shape\u001b[0m\u001b[0;34m)\u001b[0m\u001b[0;34m:\u001b[0m\u001b[0;34m\u001b[0m\u001b[0;34m\u001b[0m\u001b[0m\n",
            "\u001b[0;32m/usr/local/lib/python3.6/dist-packages/tensorflow/python/keras/engine/functional.py\u001b[0m in \u001b[0;36m_run_internal_graph\u001b[0;34m(self, inputs, training, mask)\u001b[0m\n\u001b[1;32m    506\u001b[0m \u001b[0;34m\u001b[0m\u001b[0m\n\u001b[1;32m    507\u001b[0m         \u001b[0margs\u001b[0m\u001b[0;34m,\u001b[0m \u001b[0mkwargs\u001b[0m \u001b[0;34m=\u001b[0m \u001b[0mnode\u001b[0m\u001b[0;34m.\u001b[0m\u001b[0mmap_arguments\u001b[0m\u001b[0;34m(\u001b[0m\u001b[0mtensor_dict\u001b[0m\u001b[0;34m)\u001b[0m\u001b[0;34m\u001b[0m\u001b[0;34m\u001b[0m\u001b[0m\n\u001b[0;32m--> 508\u001b[0;31m         \u001b[0moutputs\u001b[0m \u001b[0;34m=\u001b[0m \u001b[0mnode\u001b[0m\u001b[0;34m.\u001b[0m\u001b[0mlayer\u001b[0m\u001b[0;34m(\u001b[0m\u001b[0;34m*\u001b[0m\u001b[0margs\u001b[0m\u001b[0;34m,\u001b[0m \u001b[0;34m**\u001b[0m\u001b[0mkwargs\u001b[0m\u001b[0;34m)\u001b[0m\u001b[0;34m\u001b[0m\u001b[0;34m\u001b[0m\u001b[0m\n\u001b[0m\u001b[1;32m    509\u001b[0m \u001b[0;34m\u001b[0m\u001b[0m\n\u001b[1;32m    510\u001b[0m         \u001b[0;31m# Update tensor_dict.\u001b[0m\u001b[0;34m\u001b[0m\u001b[0;34m\u001b[0m\u001b[0;34m\u001b[0m\u001b[0m\n",
            "\u001b[0;32m/usr/local/lib/python3.6/dist-packages/tensorflow/python/keras/engine/base_layer.py\u001b[0m in \u001b[0;36m__call__\u001b[0;34m(self, *args, **kwargs)\u001b[0m\n\u001b[1;32m    924\u001b[0m     \u001b[0;32mif\u001b[0m \u001b[0m_in_functional_construction_mode\u001b[0m\u001b[0;34m(\u001b[0m\u001b[0mself\u001b[0m\u001b[0;34m,\u001b[0m \u001b[0minputs\u001b[0m\u001b[0;34m,\u001b[0m \u001b[0margs\u001b[0m\u001b[0;34m,\u001b[0m \u001b[0mkwargs\u001b[0m\u001b[0;34m,\u001b[0m \u001b[0minput_list\u001b[0m\u001b[0;34m)\u001b[0m\u001b[0;34m:\u001b[0m\u001b[0;34m\u001b[0m\u001b[0;34m\u001b[0m\u001b[0m\n\u001b[1;32m    925\u001b[0m       return self._functional_construction_call(inputs, args, kwargs,\n\u001b[0;32m--> 926\u001b[0;31m                                                 input_list)\n\u001b[0m\u001b[1;32m    927\u001b[0m \u001b[0;34m\u001b[0m\u001b[0m\n\u001b[1;32m    928\u001b[0m     \u001b[0;31m# Maintains info about the `Layer.call` stack.\u001b[0m\u001b[0;34m\u001b[0m\u001b[0;34m\u001b[0m\u001b[0;34m\u001b[0m\u001b[0m\n",
            "\u001b[0;32m/usr/local/lib/python3.6/dist-packages/tensorflow/python/keras/engine/base_layer.py\u001b[0m in \u001b[0;36m_functional_construction_call\u001b[0;34m(self, inputs, args, kwargs, input_list)\u001b[0m\n\u001b[1;32m   1090\u001b[0m       \u001b[0;31m# TODO(reedwm): We should assert input compatibility after the inputs\u001b[0m\u001b[0;34m\u001b[0m\u001b[0;34m\u001b[0m\u001b[0;34m\u001b[0m\u001b[0m\n\u001b[1;32m   1091\u001b[0m       \u001b[0;31m# are casted, not before.\u001b[0m\u001b[0;34m\u001b[0m\u001b[0;34m\u001b[0m\u001b[0;34m\u001b[0m\u001b[0m\n\u001b[0;32m-> 1092\u001b[0;31m       \u001b[0minput_spec\u001b[0m\u001b[0;34m.\u001b[0m\u001b[0massert_input_compatibility\u001b[0m\u001b[0;34m(\u001b[0m\u001b[0mself\u001b[0m\u001b[0;34m.\u001b[0m\u001b[0minput_spec\u001b[0m\u001b[0;34m,\u001b[0m \u001b[0minputs\u001b[0m\u001b[0;34m,\u001b[0m \u001b[0mself\u001b[0m\u001b[0;34m.\u001b[0m\u001b[0mname\u001b[0m\u001b[0;34m)\u001b[0m\u001b[0;34m\u001b[0m\u001b[0;34m\u001b[0m\u001b[0m\n\u001b[0m\u001b[1;32m   1093\u001b[0m       \u001b[0mgraph\u001b[0m \u001b[0;34m=\u001b[0m \u001b[0mbackend\u001b[0m\u001b[0;34m.\u001b[0m\u001b[0mget_graph\u001b[0m\u001b[0;34m(\u001b[0m\u001b[0;34m)\u001b[0m\u001b[0;34m\u001b[0m\u001b[0;34m\u001b[0m\u001b[0m\n\u001b[1;32m   1094\u001b[0m       \u001b[0;31m# Use `self._name_scope()` to avoid auto-incrementing the name.\u001b[0m\u001b[0;34m\u001b[0m\u001b[0;34m\u001b[0m\u001b[0;34m\u001b[0m\u001b[0m\n",
            "\u001b[0;32m/usr/local/lib/python3.6/dist-packages/tensorflow/python/keras/engine/input_spec.py\u001b[0m in \u001b[0;36massert_input_compatibility\u001b[0;34m(input_spec, inputs, layer_name)\u001b[0m\n\u001b[1;32m    214\u001b[0m                 \u001b[0;34m' incompatible with the layer: expected axis '\u001b[0m \u001b[0;34m+\u001b[0m \u001b[0mstr\u001b[0m\u001b[0;34m(\u001b[0m\u001b[0maxis\u001b[0m\u001b[0;34m)\u001b[0m \u001b[0;34m+\u001b[0m\u001b[0;34m\u001b[0m\u001b[0;34m\u001b[0m\u001b[0m\n\u001b[1;32m    215\u001b[0m                 \u001b[0;34m' of input shape to have value '\u001b[0m \u001b[0;34m+\u001b[0m \u001b[0mstr\u001b[0m\u001b[0;34m(\u001b[0m\u001b[0mvalue\u001b[0m\u001b[0;34m)\u001b[0m \u001b[0;34m+\u001b[0m\u001b[0;34m\u001b[0m\u001b[0;34m\u001b[0m\u001b[0m\n\u001b[0;32m--> 216\u001b[0;31m                 ' but received input with shape ' + str(shape))\n\u001b[0m\u001b[1;32m    217\u001b[0m     \u001b[0;31m# Check shape.\u001b[0m\u001b[0;34m\u001b[0m\u001b[0;34m\u001b[0m\u001b[0;34m\u001b[0m\u001b[0m\n\u001b[1;32m    218\u001b[0m     \u001b[0;32mif\u001b[0m \u001b[0mspec\u001b[0m\u001b[0;34m.\u001b[0m\u001b[0mshape\u001b[0m \u001b[0;32mis\u001b[0m \u001b[0;32mnot\u001b[0m \u001b[0;32mNone\u001b[0m\u001b[0;34m:\u001b[0m\u001b[0;34m\u001b[0m\u001b[0;34m\u001b[0m\u001b[0m\n",
            "\u001b[0;31mValueError\u001b[0m: Input 0 of layer dense_14 is incompatible with the layer: expected axis -1 of input shape to have value 2304 but received input with shape [None, 6400]"
          ]
        }
      ]
    },
    {
      "cell_type": "code",
      "metadata": {
        "id": "Gjiy0EVLqrho"
      },
      "source": [
        ""
      ],
      "execution_count": null,
      "outputs": []
    },
    {
      "cell_type": "markdown",
      "metadata": {
        "id": "Yirav1g6LiZV"
      },
      "source": [
        "# Freeze all layers in the model as we'll be reusing them"
      ]
    },
    {
      "cell_type": "code",
      "metadata": {
        "id": "6DXMQ-WnLp-z",
        "outputId": "ab8c2723-4b23-4604-b720-df2402eaf5bf",
        "colab": {
          "base_uri": "https://localhost:8080/",
          "height": 209
        }
      },
      "source": [
        "#iterate through the base model to freeze the layer so that we don't train them\n",
        "for layer in base_model_layers:\n",
        "  layer.trainable=False"
      ],
      "execution_count": null,
      "outputs": [
        {
          "output_type": "error",
          "ename": "NameError",
          "evalue": "ignored",
          "traceback": [
            "\u001b[0;31m---------------------------------------------------------------------------\u001b[0m",
            "\u001b[0;31mNameError\u001b[0m                                 Traceback (most recent call last)",
            "\u001b[0;32m<ipython-input-54-d3aa77f02921>\u001b[0m in \u001b[0;36m<module>\u001b[0;34m()\u001b[0m\n\u001b[1;32m      1\u001b[0m \u001b[0;31m#iterate through the base model to freeze the layer so that we don't train them\u001b[0m\u001b[0;34m\u001b[0m\u001b[0;34m\u001b[0m\u001b[0;34m\u001b[0m\u001b[0m\n\u001b[0;32m----> 2\u001b[0;31m \u001b[0;32mfor\u001b[0m \u001b[0mlayer\u001b[0m \u001b[0;32min\u001b[0m \u001b[0mbase_model_layers\u001b[0m\u001b[0;34m:\u001b[0m\u001b[0;34m\u001b[0m\u001b[0;34m\u001b[0m\u001b[0m\n\u001b[0m\u001b[1;32m      3\u001b[0m   \u001b[0mlayer\u001b[0m\u001b[0;34m.\u001b[0m\u001b[0mtrainable\u001b[0m\u001b[0;34m=\u001b[0m\u001b[0;32mFalse\u001b[0m\u001b[0;34m\u001b[0m\u001b[0;34m\u001b[0m\u001b[0m\n",
            "\u001b[0;31mNameError\u001b[0m: name 'base_model_layers' is not defined"
          ]
        }
      ]
    },
    {
      "cell_type": "markdown",
      "metadata": {
        "id": "cJzWk2ubMeOD"
      },
      "source": [
        "#"
      ]
    },
    {
      "cell_type": "code",
      "metadata": {
        "id": "5yzvUPiQMGQB"
      },
      "source": [
        "#compile the merged model\n",
        "model.compile(loss='binary_crossentropy', optimizer=optimizers.Adam(lr=1e-4),metrics=['accuracy'])"
      ],
      "execution_count": null,
      "outputs": []
    },
    {
      "cell_type": "markdown",
      "metadata": {
        "id": "-T76zUhCNdPA"
      },
      "source": [
        "# Model summary"
      ]
    },
    {
      "cell_type": "code",
      "metadata": {
        "id": "r58y4oA0Ngqp"
      },
      "source": [
        "model.summary"
      ],
      "execution_count": null,
      "outputs": []
    },
    {
      "cell_type": "markdown",
      "metadata": {
        "id": "ajIjrquOMlE3"
      },
      "source": [
        "# Setup to use the Data Generator Function"
      ]
    },
    {
      "cell_type": "code",
      "metadata": {
        "id": "oserqlPcMro5"
      },
      "source": [
        "train_datagen=ImageDataGenerator(rescale=1.0/255,horizontal_flip=False)"
      ],
      "execution_count": null,
      "outputs": []
    },
    {
      "cell_type": "code",
      "metadata": {
        "id": "Z3ybCDU94Wyu"
      },
      "source": [
        "#use  our Data Generator to get our data\n",
        "train_datagen.fit(x_train)\n",
        "train_generator = train_datagen.flow(x_train, y_train, batch_size=BATCH_SIZE)\n",
        "val_datagen = ImageDataGenerator(rescale = 1.0/255, horizontal_flip=False)val_datagen.fit(x_test)\n",
        "val_generator = val_datagen.flow(x_test, y_test, batch_size=BATCH_SIZE)"
      ],
      "execution_count": null,
      "outputs": []
    },
    {
      "cell_type": "markdown",
      "metadata": {
        "id": "ZKO1UZk05Mrp"
      },
      "source": [
        "#Training the model"
      ]
    },
    {
      "cell_type": "code",
      "metadata": {
        "id": "VSqCqmex5Pvc"
      },
      "source": [
        "#We arre ready to start training the mocdel\n",
        "train_steps_per_epoch=x_train.shape[0]//BATCH_SIZE\n",
        "val_Steps_per_epoch=x_test.shape[0]//BATCH_SIZE\n",
        "train_steps_per_epoch=x_train.shape[0] // BATCH_SIZEval_steps_per_epoch=x_test.shape[0] // BATCH_SIZEhistory=model.fit_generator(train_generator,steps_per_epoch=train_steps_per_epoch, validation_data=val_generator,validation_steps=val_steps_per_epoch, epochs=EPOCHS, verbose=1)"
      ],
      "execution_count": null,
      "outputs": []
    },
    {
      "cell_type": "code",
      "metadata": {
        "id": "Oi2PLlkAAOtH"
      },
      "source": [
        ""
      ],
      "execution_count": null,
      "outputs": []
    },
    {
      "cell_type": "markdown",
      "metadata": {
        "id": "Kthw_hvNAQR6"
      },
      "source": [
        "With 5 epochs our accuracy is ~ 72% compared to 62% with 10 epochs. Furthermore, transfer learining using more epochs will have better accurcay. Therfore taking advantage of the pretrained nmodel and only training the top layers allows us thye advantage of the pre-trained weights. We need to check \"What\" exactly those run weights know"
      ]
    },
    {
      "cell_type": "markdown",
      "metadata": {
        "id": "qEu4Z7vmBWac"
      },
      "source": [
        "# Visualizing the Filters of the Pre-trained VGG16 model"
      ]
    },
    {
      "cell_type": "code",
      "metadata": {
        "id": "vz7s1-9kArz-"
      },
      "source": [
        "from tensorflow.keras.applications import vgg16 as vgg16\n",
        "model=vgg.VGG16(weights='imagenet', include_top=False)\n",
        "#get theb symbolic outputs of each 'key'\n",
        "layer_dict=dict([(layer.name, layer) for layer in model.layers])"
      ],
      "execution_count": null,
      "outputs": []
    },
    {
      "cell_type": "code",
      "metadata": {
        "id": "ENmt91vWCOjj"
      },
      "source": [
        "#summarize the filter shapes\n",
        "\n",
        "for layer in model.layers:\n",
        "  #check for convolutyional layer\n",
        "  if 'conv' not i layer.mname:\n",
        "    continue\n",
        "  #get filter weights\n",
        "  filters, biases = layer.get_weights()\n",
        "  print(layer.name, filters.shape)"
      ],
      "execution_count": null,
      "outputs": []
    },
    {
      "cell_type": "code",
      "metadata": {
        "id": "nt39-KCPDAfW"
      },
      "source": [
        "#retrieve the wights form the hidden layer\n",
        "filters, biases=model.layers[2].get_weights()"
      ],
      "execution_count": null,
      "outputs": []
    },
    {
      "cell_type": "code",
      "metadata": {
        "id": "X9WCyqIcDS-J"
      },
      "source": [
        "biases"
      ],
      "execution_count": null,
      "outputs": []
    },
    {
      "cell_type": "code",
      "metadata": {
        "id": "EEhoqcDMDXFb"
      },
      "source": [
        "#shape of the Conv filters\n",
        "filters.shape"
      ],
      "execution_count": null,
      "outputs": []
    },
    {
      "cell_type": "code",
      "metadata": {
        "id": "uQmaxai2DkjV"
      },
      "source": [
        "#shape of biases\n",
        "biases.shape"
      ],
      "execution_count": null,
      "outputs": []
    },
    {
      "cell_type": "code",
      "metadata": {
        "id": "hg52nvbgDm2E"
      },
      "source": [
        "#normalize the \n",
        "f_min, f_max=filters.min(), filters.max()\n",
        "filters=(filters-f_min)/(f_max-f_min)"
      ],
      "execution_count": null,
      "outputs": []
    },
    {
      "cell_type": "code",
      "metadata": {
        "id": "wtMA-tu7DpyN"
      },
      "source": [
        "filters"
      ],
      "execution_count": null,
      "outputs": []
    },
    {
      "cell_type": "code",
      "metadata": {
        "id": "KaG1T-JpEYs2"
      },
      "source": [
        "#visulaize the filters"
      ],
      "execution_count": null,
      "outputs": []
    },
    {
      "cell_type": "code",
      "metadata": {
        "id": "3MFxjcRhEbA9"
      },
      "source": [
        "import matplotlib as plt\n",
        "#plot the first few filters\n",
        "n_filters, ix=6,1\n",
        "for im in range(n_filters):\n",
        "  #get the filter\n",
        "  f=filters[:,:,:,i]\n",
        "  #plot each channel separately\n",
        "  for j in range(3):\n",
        "    #sspecify the subplot and turn on axis\n",
        "    ax=plt.subplot(n_filters,3,ix)\n",
        "    ax.set_xticks([])\n",
        "    ax.set_yticks([])\n",
        "    #plot filter channel\n",
        "    plt.imshow(f[:,:,j], cmap='gray')\n",
        "    ix +=1\n",
        "  #show the figure\n",
        "  plt.show()"
      ],
      "execution_count": null,
      "outputs": []
    },
    {
      "cell_type": "markdown",
      "metadata": {
        "id": "z2CwG-ayGTNm"
      },
      "source": [
        "#"
      ]
    },
    {
      "cell_type": "code",
      "metadata": {
        "id": "T7Ahop1SGVhN"
      },
      "source": [
        "#plot the feature map of the first conv layer for given image\n",
        "from tensorflow.keras.applicatiuons.vgg16 import VGG16\n",
        "from tensorflow.keras.applications.vgg16 import preprocess_input\n",
        "from tensoprflow.keras.preprocessing.image import load_img\n",
        "from tensoprflow.keras.preprocessing.image import img_to_array\n",
        "from tensorflow.keras.models import Model\n",
        "import matplotlib as plt\n",
        "from numpy import \n",
        "\n",
        "#load the model\n",
        "model=VGG16()"
      ],
      "execution_count": null,
      "outputs": []
    },
    {
      "cell_type": "code",
      "metadata": {
        "id": "19G3i6iZIIkn"
      },
      "source": [
        "#\n",
        "model=Model(inputs=model.input, outputs=model.lkayers[1].output)"
      ],
      "execution_count": null,
      "outputs": []
    },
    {
      "cell_type": "code",
      "metadata": {
        "id": "8Ju5W47nIfjn"
      },
      "source": [
        "#model summary\n",
        "model.summary()"
      ],
      "execution_count": null,
      "outputs": []
    },
    {
      "cell_type": "code",
      "metadata": {
        "id": "RIiAFlc9KsPT"
      },
      "source": [
        "#create the model that will return these outputs, given the model input\n",
        "#we redefine model to output right right after thbe first hidden layer\n",
        "model="
      ],
      "execution_count": null,
      "outputs": []
    },
    {
      "cell_type": "code",
      "metadata": {
        "id": "SI8g9LRiIlHW"
      },
      "source": [
        "#load hte image required shape\n",
        "img=load_img('sample_1.jpg',target_size=(224,224))\n",
        "\n",
        "#convgert image to an array\n",
        "img=img_to_array(img)\n",
        "\n",
        "#exp[pand the dimensions so that it represents a single sampl\n",
        "im=expand_dims(img, axis=0)\n",
        "#prepare the image e.g scale the piuxel values ofr the vgg\n",
        "img=preprocess_input(img)\n",
        "#get the featuyre map for the first hidden layer\n",
        "featurte_maps=model.pre4dict(img)\n",
        "#plot all the 64 maps in an 8x8 squares\n",
        "square=8\n",
        "ix=1\n",
        "plt.figure(figsize=(12,12))\n",
        "for _ in range(square):\n",
        "  for _ in range(square):\n",
        "    ax=plt.subplot(square, square,ix)\n",
        "    ax.set_xticks([])\n",
        "    ax.set_yticks([])\n",
        "    #plot the filter channel in greyscale\n",
        "    plt.imshow(featurte_maps[0,:,:,ix-1], cmap='gray')\n",
        "    ix +=1\n",
        "  #show the figure\n",
        "  model.summary()"
      ],
      "execution_count": null,
      "outputs": []
    },
    {
      "cell_type": "code",
      "metadata": {
        "id": "2I4MhoUiQtVd"
      },
      "source": [
        "for layer in model.layers:  \n",
        "  # check for convolutional layer  \n",
        "  if 'conv' not in layer.name:    \n",
        "    continue  \n",
        "    #get filter weights  \n",
        "    filters, biases =layer.get_weights()  \n",
        "    print(layer.name,filters.shape)"
      ],
      "execution_count": null,
      "outputs": []
    },
    {
      "cell_type": "code",
      "metadata": {
        "id": "F2MbcjPvlq7y"
      },
      "source": [
        ""
      ],
      "execution_count": null,
      "outputs": []
    },
    {
      "cell_type": "code",
      "metadata": {
        "id": "wyEhmnQdlqY3"
      },
      "source": [
        ""
      ],
      "execution_count": null,
      "outputs": []
    },
    {
      "cell_type": "markdown",
      "metadata": {
        "id": "DF-uAkMjlsue"
      },
      "source": [
        "#Part 4: Visualizing Filter Maximizations, Gradient-weighted Class Activation Mapping (Grad-CAM),"
      ]
    },
    {
      "cell_type": "markdown",
      "metadata": {
        "id": "hNxJSx8ppEZ0"
      },
      "source": [
        "### Objective"
      ]
    },
    {
      "cell_type": "markdown",
      "metadata": {
        "id": "mPVBhyaCpOso"
      },
      "source": [
        "### Workflow\n",
        "* \n",
        "* The resu;;ting image tensor is a floating point tensor (1,150,150,3) - plot the image pattern and build this entire process into a simple function\n",
        "* Grad - CAM algorithm -> visualize the areas in an image CNN in decision making\n",
        "* Bulid a function that will generate the Grad - CAM heat map\n",
        "* Use exception model to predict the class of the test image\n",
        "* Overlay the heatmap onto the test image to see which areas in the image were most importantg in achieving the class prediction\n",
        "*\n",
        "*** Understand how you can maximize filter maximizations and visualize them"
      ]
    },
    {
      "cell_type": "markdown",
      "metadata": {
        "id": "wXm-4kqEqw6y"
      },
      "source": [
        "# Maximizing Filter Activations"
      ]
    },
    {
      "cell_type": "markdown",
      "metadata": {
        "id": "-oRSr9RKq8fy"
      },
      "source": [
        "You add a loss function that maximizes the value of a given filter in a given conv layer, then use stochastic gradient descent to adjust the values of the inpuyt image so as maximize the activation value"
      ]
    },
    {
      "cell_type": "code",
      "metadata": {
        "id": "OMpCT1HspN5s"
      },
      "source": [
        "from tensorflow.keras.applications import VGG16\n",
        "from keras import backend as K"
      ],
      "execution_count": 1,
      "outputs": []
    },
    {
      "cell_type": "code",
      "metadata": {
        "id": "JBB4LK1DrlU3",
        "outputId": "aa85351f-7816-4711-d726-b0c1a91cd6e3",
        "colab": {
          "base_uri": "https://localhost:8080/",
          "height": 54
        }
      },
      "source": [
        "model = VGG16(include_top=False, weights='imagenet') #building the vgg16 network"
      ],
      "execution_count": 2,
      "outputs": [
        {
          "output_type": "stream",
          "text": [
            "Downloading data from https://storage.googleapis.com/tensorflow/keras-applications/vgg16/vgg16_weights_tf_dim_ordering_tf_kernels_notop.h5\n",
            "58892288/58889256 [==============================] - 0s 0us/step\n"
          ],
          "name": "stdout"
        }
      ]
    },
    {
      "cell_type": "code",
      "metadata": {
        "id": "B-dk1Lu8r2WC",
        "outputId": "7aba58b7-ba98-4f2e-d306-abc4e8cac040",
        "colab": {
          "base_uri": "https://localhost:8080/",
          "height": 862
        }
      },
      "source": [
        "model.summary()"
      ],
      "execution_count": 3,
      "outputs": [
        {
          "output_type": "stream",
          "text": [
            "Model: \"vgg16\"\n",
            "_________________________________________________________________\n",
            "Layer (type)                 Output Shape              Param #   \n",
            "=================================================================\n",
            "input_1 (InputLayer)         [(None, None, None, 3)]   0         \n",
            "_________________________________________________________________\n",
            "block1_conv1 (Conv2D)        (None, None, None, 64)    1792      \n",
            "_________________________________________________________________\n",
            "block1_conv2 (Conv2D)        (None, None, None, 64)    36928     \n",
            "_________________________________________________________________\n",
            "block1_pool (MaxPooling2D)   (None, None, None, 64)    0         \n",
            "_________________________________________________________________\n",
            "block2_conv1 (Conv2D)        (None, None, None, 128)   73856     \n",
            "_________________________________________________________________\n",
            "block2_conv2 (Conv2D)        (None, None, None, 128)   147584    \n",
            "_________________________________________________________________\n",
            "block2_pool (MaxPooling2D)   (None, None, None, 128)   0         \n",
            "_________________________________________________________________\n",
            "block3_conv1 (Conv2D)        (None, None, None, 256)   295168    \n",
            "_________________________________________________________________\n",
            "block3_conv2 (Conv2D)        (None, None, None, 256)   590080    \n",
            "_________________________________________________________________\n",
            "block3_conv3 (Conv2D)        (None, None, None, 256)   590080    \n",
            "_________________________________________________________________\n",
            "block3_pool (MaxPooling2D)   (None, None, None, 256)   0         \n",
            "_________________________________________________________________\n",
            "block4_conv1 (Conv2D)        (None, None, None, 512)   1180160   \n",
            "_________________________________________________________________\n",
            "block4_conv2 (Conv2D)        (None, None, None, 512)   2359808   \n",
            "_________________________________________________________________\n",
            "block4_conv3 (Conv2D)        (None, None, None, 512)   2359808   \n",
            "_________________________________________________________________\n",
            "block4_pool (MaxPooling2D)   (None, None, None, 512)   0         \n",
            "_________________________________________________________________\n",
            "block5_conv1 (Conv2D)        (None, None, None, 512)   2359808   \n",
            "_________________________________________________________________\n",
            "block5_conv2 (Conv2D)        (None, None, None, 512)   2359808   \n",
            "_________________________________________________________________\n",
            "block5_conv3 (Conv2D)        (None, None, None, 512)   2359808   \n",
            "_________________________________________________________________\n",
            "block5_pool (MaxPooling2D)   (None, None, None, 512)   0         \n",
            "=================================================================\n",
            "Total params: 14,714,688\n",
            "Trainable params: 14,714,688\n",
            "Non-trainable params: 0\n",
            "_________________________________________________________________\n"
          ],
          "name": "stdout"
        }
      ]
    },
    {
      "cell_type": "code",
      "metadata": {
        "id": "1517kn16r-5Q"
      },
      "source": [
        "# we explore the 3rd conv block\n",
        "layer_name='block3_conv1'\n",
        "#we can use any integer from 0 - 511 since we have 512 filters in that layer\n",
        "filter_index=0\n",
        "#build a loss fucntion that maximizes the activation of the nth filters of the layers considered\n",
        "# use the get_layer funbction\n",
        "layer_output=model.get_layer(layer_name).output\n",
        "loss=K.mean(layer_output[:,:,:,filter_index])"
      ],
      "execution_count": 6,
      "outputs": []
    },
    {
      "cell_type": "code",
      "metadata": {
        "id": "6Q_HkyodyTFw",
        "outputId": "caf6d22e-2541-4177-d62d-38217dd3a477",
        "colab": {
          "base_uri": "https://localhost:8080/",
          "height": 36
        }
      },
      "source": [
        "import tensorflow\n",
        "tensorflow.__version__"
      ],
      "execution_count": 9,
      "outputs": [
        {
          "output_type": "execute_result",
          "data": {
            "application/vnd.google.colaboratory.intrinsic+json": {
              "type": "string"
            },
            "text/plain": [
              "'2.3.0'"
            ]
          },
          "metadata": {
            "tags": []
          },
          "execution_count": 9
        }
      ]
    },
    {
      "cell_type": "markdown",
      "metadata": {
        "id": "KFEkieFVtthi"
      },
      "source": [
        "To implement grad descent, you will need\n",
        "Compute the grad of the input picture with respect to the loss"
      ]
    },
    {
      "cell_type": "code",
      "metadata": {
        "id": "RO4_TN5Ct9wz",
        "outputId": "312ee4c8-eb61-4691-e6bb-98d1fab30895",
        "colab": {
          "base_uri": "https://localhost:8080/",
          "height": 343
        }
      },
      "source": [
        "grads=K.gradients(loss,model.input)[0]"
      ],
      "execution_count": 7,
      "outputs": [
        {
          "output_type": "error",
          "ename": "RuntimeError",
          "evalue": "ignored",
          "traceback": [
            "\u001b[0;31m---------------------------------------------------------------------------\u001b[0m",
            "\u001b[0;31mRuntimeError\u001b[0m                              Traceback (most recent call last)",
            "\u001b[0;32m<ipython-input-7-3678c4da9bf2>\u001b[0m in \u001b[0;36m<module>\u001b[0;34m()\u001b[0m\n\u001b[0;32m----> 1\u001b[0;31m \u001b[0mgrads\u001b[0m\u001b[0;34m=\u001b[0m\u001b[0mK\u001b[0m\u001b[0;34m.\u001b[0m\u001b[0mgradients\u001b[0m\u001b[0;34m(\u001b[0m\u001b[0mloss\u001b[0m\u001b[0;34m,\u001b[0m\u001b[0mmodel\u001b[0m\u001b[0;34m.\u001b[0m\u001b[0minput\u001b[0m\u001b[0;34m)\u001b[0m\u001b[0;34m[\u001b[0m\u001b[0;36m0\u001b[0m\u001b[0;34m]\u001b[0m\u001b[0;34m\u001b[0m\u001b[0;34m\u001b[0m\u001b[0m\n\u001b[0m",
            "\u001b[0;32m/usr/local/lib/python3.6/dist-packages/tensorflow/python/keras/backend.py\u001b[0m in \u001b[0;36mgradients\u001b[0;34m(loss, variables)\u001b[0m\n\u001b[1;32m   3967\u001b[0m   \"\"\"\n\u001b[1;32m   3968\u001b[0m   return gradients_module.gradients(\n\u001b[0;32m-> 3969\u001b[0;31m       loss, variables, colocate_gradients_with_ops=True)\n\u001b[0m\u001b[1;32m   3970\u001b[0m \u001b[0;34m\u001b[0m\u001b[0m\n\u001b[1;32m   3971\u001b[0m \u001b[0;34m\u001b[0m\u001b[0m\n",
            "\u001b[0;32m/usr/local/lib/python3.6/dist-packages/tensorflow/python/ops/gradients_impl.py\u001b[0m in \u001b[0;36mgradients\u001b[0;34m(ys, xs, grad_ys, name, colocate_gradients_with_ops, gate_gradients, aggregation_method, stop_gradients, unconnected_gradients)\u001b[0m\n\u001b[1;32m    170\u001b[0m         \u001b[0mys\u001b[0m\u001b[0;34m,\u001b[0m \u001b[0mxs\u001b[0m\u001b[0;34m,\u001b[0m \u001b[0mgrad_ys\u001b[0m\u001b[0;34m,\u001b[0m \u001b[0mname\u001b[0m\u001b[0;34m,\u001b[0m \u001b[0mcolocate_gradients_with_ops\u001b[0m\u001b[0;34m,\u001b[0m\u001b[0;34m\u001b[0m\u001b[0;34m\u001b[0m\u001b[0m\n\u001b[1;32m    171\u001b[0m         \u001b[0mgate_gradients\u001b[0m\u001b[0;34m,\u001b[0m \u001b[0maggregation_method\u001b[0m\u001b[0;34m,\u001b[0m \u001b[0mstop_gradients\u001b[0m\u001b[0;34m,\u001b[0m\u001b[0;34m\u001b[0m\u001b[0;34m\u001b[0m\u001b[0m\n\u001b[0;32m--> 172\u001b[0;31m         unconnected_gradients)\n\u001b[0m\u001b[1;32m    173\u001b[0m   \u001b[0;31m# pylint: enable=protected-access\u001b[0m\u001b[0;34m\u001b[0m\u001b[0;34m\u001b[0m\u001b[0;34m\u001b[0m\u001b[0m\n\u001b[1;32m    174\u001b[0m \u001b[0;34m\u001b[0m\u001b[0m\n",
            "\u001b[0;32m/usr/local/lib/python3.6/dist-packages/tensorflow/python/ops/gradients_util.py\u001b[0m in \u001b[0;36m_GradientsHelper\u001b[0;34m(ys, xs, grad_ys, name, colocate_gradients_with_ops, gate_gradients, aggregation_method, stop_gradients, unconnected_gradients, src_graph)\u001b[0m\n\u001b[1;32m    489\u001b[0m   \u001b[0;34m\"\"\"Implementation of gradients().\"\"\"\u001b[0m\u001b[0;34m\u001b[0m\u001b[0;34m\u001b[0m\u001b[0m\n\u001b[1;32m    490\u001b[0m   \u001b[0;32mif\u001b[0m \u001b[0mcontext\u001b[0m\u001b[0;34m.\u001b[0m\u001b[0mexecuting_eagerly\u001b[0m\u001b[0;34m(\u001b[0m\u001b[0;34m)\u001b[0m\u001b[0;34m:\u001b[0m\u001b[0;34m\u001b[0m\u001b[0;34m\u001b[0m\u001b[0m\n\u001b[0;32m--> 491\u001b[0;31m     raise RuntimeError(\"tf.gradients is not supported when eager execution \"\n\u001b[0m\u001b[1;32m    492\u001b[0m                        \"is enabled. Use tf.GradientTape instead.\")\n\u001b[1;32m    493\u001b[0m   \u001b[0;32mif\u001b[0m \u001b[0msrc_graph\u001b[0m \u001b[0;32mis\u001b[0m \u001b[0;32mNone\u001b[0m\u001b[0;34m:\u001b[0m\u001b[0;34m\u001b[0m\u001b[0;34m\u001b[0m\u001b[0m\n",
            "\u001b[0;31mRuntimeError\u001b[0m: tf.gradients is not supported when eager execution is enabled. Use tf.GradientTape instead."
          ]
        }
      ]
    }
  ]
}